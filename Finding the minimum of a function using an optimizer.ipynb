{
 "cells": [
  {
   "cell_type": "markdown",
   "metadata": {},
   "source": [
    "# Finding the Minimum of a Function Using an Optimizer"
   ]
  },
  {
   "cell_type": "markdown",
   "metadata": {},
   "source": [
    "## Table of contents\n",
    "1. [Forth-order equation to find the Minimum](#Locate-the-global-minimum-using-the-following-fourth-order-equation)\n",
    "2. [Findind the Minimum with Adam Optimizer](#Adam-Optimizer)\n",
    "3. [Findind the Minimum with SGD Optimizer](#SGD-Optimizer)\n",
    "4. [Findind the Minimum with Ftrl Optimizer](#Ftrl-Optimizer)\n",
    "5. [Observations](#Observations)"
   ]
  },
  {
   "cell_type": "code",
   "execution_count": 1,
   "metadata": {},
   "outputs": [],
   "source": [
    "import numpy as np\n",
    "import matplotlib.pyplot as plt\n",
    "import tensorflow as tf"
   ]
  },
  {
   "cell_type": "markdown",
   "metadata": {},
   "source": [
    "### Locate the global minimum using the following fourth-order equation\n",
    "***\n",
    "\n",
    "**Fourth order equation - Loss function:** $y = (x-A)(x-B)(x-C)(x-D)$<br>\n",
    "_Where:_ <br>\n",
    "* $A =$ 4<br>\n",
    "* $B =$ 4<br>\n",
    "* $C =$ 1<br>\n",
    "* $D =$ 5<br>\n",
    "\n",
    "_Find the value of of $x$ which gives the minimum value of $y$._"
   ]
  },
  {
   "cell_type": "code",
   "execution_count": 2,
   "metadata": {},
   "outputs": [],
   "source": [
    "#Assign values to variables\n",
    "A, B, C, D = 4, 4 ,1, 5\n",
    "\n",
    "#Explore with differet domains\n",
    "x1 = np.linspace(-1000,1000,1000)\n",
    "x2 = np.linspace(-25,25,1000)\n",
    "x3 = np.linspace(0,1000000,1000)\n",
    "x4 = np.linspace(-1000000,0,1000)\n",
    "\n",
    "#Values of y for the different domains\n",
    "y1 = (x1-A)*(x1-B)*(x1-C)*(x1-D)\n",
    "y2 = (x2-A)*(x2-B)*(x2-C)*(x2-D)\n",
    "y3 = (x3-A)*(x3-B)*(x3-C)*(x3-D)\n",
    "y4 = (x4-A)*(x4-B)*(x4-C)*(x4-D)"
   ]
  },
  {
   "cell_type": "code",
   "execution_count": 3,
   "metadata": {},
   "outputs": [
    {
     "data": {
      "image/png": "[encoded data removed]",
      "text/plain": [
       "<Figure size 432x288 with 4 Axes>"
      ]
     },
     "metadata": {
      "needs_background": "light"
     },
     "output_type": "display_data"
    }
   ],
   "source": [
    "# Initialize the subplot function using number of rows and columns\n",
    "figure, axis = plt.subplots(nrows=2, ncols=2,)\n",
    "\n",
    "# For x1\n",
    "axis[0, 0].plot(x1, y1)\n",
    "axis[0, 0].set_title(\"(x:-1000,1000)\")\n",
    "axis[0, 0].set_xlabel(\"Values of x\")\n",
    "axis[0, 0].set_ylabel(\"Values of y\")\n",
    "\n",
    "# For x2\n",
    "axis[0, 1].plot(x2, y2)\n",
    "axis[0, 1].set_title(\"(x:-15,15)\")\n",
    "axis[0, 1].set_xlabel(\"Values of x\")\n",
    "axis[0, 1].set_ylabel(\"Values of y\")\n",
    "  \n",
    "# For x3\n",
    "axis[1, 0].plot(x3, y3)\n",
    "axis[1, 0].set_title(\"(x:0,1000000)\")\n",
    "axis[1, 0].set_xlabel(\"Values of x\")\n",
    "axis[1, 0].set_ylabel(\"Values of y\")\n",
    "  \n",
    "# For x4\n",
    "axis[1, 1].plot(x4, y4)\n",
    "axis[1, 1].set_title(\"(x:-1000000,0)\")\n",
    "axis[1, 1].set_xlabel(\"Values of x\")\n",
    "axis[1, 1].set_ylabel(\"Values of y\")\n",
    "  \n",
    "# Join plots and display\n",
    "plt.tight_layout()"
   ]
  },
  {
   "cell_type": "markdown",
   "metadata": {},
   "source": [
    "In the code above we are exploring how the fourth-order equation behaves with the values it was assigned. After exploring with different domains, we can see in the plots there is only one minima."
   ]
  },
  {
   "cell_type": "code",
   "execution_count": 4,
   "metadata": {},
   "outputs": [],
   "source": [
    "def foe(x):\n",
    "    \"\"\"Fourth-order equation\"\"\"\n",
    "    y = (x-A)*(x-B)*(x-C)*(x-D)\n",
    "    return y"
   ]
  },
  {
   "cell_type": "markdown",
   "metadata": {},
   "source": [
    "### Adam Optimizer\n",
    "***\n",
    "[Return to top](#Assignment-1:-Finding-the-Minimum-of-a-Function-Using-an-Optimizer)<br>\n",
    "[SGD Optimizer](#SGD-Optimizer)<br>\n",
    "[Ftrl Optimizer](#Ftrl-Optimizer)"
   ]
  },
  {
   "cell_type": "markdown",
   "metadata": {},
   "source": [
    ">$x = 0.0$"
   ]
  },
  {
   "cell_type": "code",
   "execution_count": 5,
   "metadata": {},
   "outputs": [],
   "source": [
    "#Loss fuction \n",
    "loss = lambda:(x-A)*(x-B)*(x-C)*(x-D)"
   ]
  },
  {
   "cell_type": "code",
   "execution_count": 6,
   "metadata": {},
   "outputs": [],
   "source": [
    "#Create an instance of the optimizer with learning rate of .01\n",
    "optimizer = tf.optimizers.Adam(.01)"
   ]
  },
  {
   "cell_type": "code",
   "execution_count": 7,
   "metadata": {},
   "outputs": [],
   "source": [
    "#Initialize x to 0.0\n",
    "x = tf.Variable(0.0)"
   ]
  },
  {
   "cell_type": "code",
   "execution_count": 8,
   "metadata": {},
   "outputs": [],
   "source": [
    "#Values for x = 0.0\n",
    "iterations = []\n",
    "x_opt = []\n",
    "val_loss = []\n",
    "for i in range (1000):\n",
    "#for i in range(200):\n",
    "#for i in range(400):\n",
    "    iterations.append(i)\n",
    "    optimizer.minimize(loss,x)\n",
    "    x_opt.append(x)\n",
    "    val_loss.append(foe(x))"
   ]
  },
  {
   "cell_type": "code",
   "execution_count": 9,
   "metadata": {},
   "outputs": [
    {
     "name": "stdout",
     "output_type": "stream",
     "text": [
      "Iteration:  0 \n",
      " Loss:  78.6468887 \n",
      " Optimized x:  1.81325269 \n",
      "\n",
      " Iteration:  399 \n",
      " Loss:  -12.1038074 \n",
      " Optimized x:  1.81325269 \n",
      "\n",
      "Iteration:  999 \n",
      " Loss:  -12.3928251 \n",
      " Optimized x:  1.81325269\r\n"
     ]
    }
   ],
   "source": [
    "tf.print('Iteration: ', iterations[0],'\\n',\n",
    "         'Loss: ', val_loss[0], '\\n',\n",
    "         'Optimized x: ', x_opt[0],'\\n\\n',\n",
    "         'Iteration: ', iterations[399],'\\n',\n",
    "         'Loss: ', val_loss[399], '\\n',\n",
    "         'Optimized x: ', x_opt[399],'\\n\\n'\n",
    "         'Iteration: ', iterations[999],'\\n',\n",
    "         'Loss: ', val_loss[999], '\\n',\n",
    "         'Optimized x: ', x_opt[999]\n",
    "        )"
   ]
  },
  {
   "cell_type": "code",
   "execution_count": 10,
   "metadata": {},
   "outputs": [
    {
     "data": {
      "image/png": "[encoded data removed]",
      "text/plain": [
       "<Figure size 432x288 with 1 Axes>"
      ]
     },
     "metadata": {
      "needs_background": "light"
     },
     "output_type": "display_data"
    }
   ],
   "source": [
    "plt.plot(iterations, val_loss)\n",
    "plt.title(\"Loss vs. Iteration (Adam, x=0.0)\")\n",
    "plt.ylabel(\"Loss\")\n",
    "plt.xlabel(\"Iterations\")\n",
    "plt.show()"
   ]
  },
  {
   "cell_type": "markdown",
   "metadata": {},
   "source": [
    "***\n",
    ">$x=0.5$"
   ]
  },
  {
   "cell_type": "code",
   "execution_count": 11,
   "metadata": {},
   "outputs": [],
   "source": [
    "#Initialize x to 0.5\n",
    "x = tf.Variable(0.5)"
   ]
  },
  {
   "cell_type": "code",
   "execution_count": 12,
   "metadata": {},
   "outputs": [],
   "source": [
    "#Loss fuction \n",
    "loss = lambda:(x-A)*(x-B)*(x-C)*(x-D)"
   ]
  },
  {
   "cell_type": "code",
   "execution_count": 13,
   "metadata": {},
   "outputs": [],
   "source": [
    "#Create an instance of the optimizer with learning rate of .01\n",
    "optimizer = tf.optimizers.Adam(.01)"
   ]
  },
  {
   "cell_type": "code",
   "execution_count": 14,
   "metadata": {},
   "outputs": [],
   "source": [
    "iterations = []\n",
    "x_opt = []\n",
    "val_loss = []\n",
    "for i in range (1000):\n",
    "#for i in range(100):\n",
    "#for i in range(400):\n",
    "    iterations.append(i)\n",
    "    optimizer.minimize(loss,x)\n",
    "    x_opt.append(x)\n",
    "    val_loss.append(foe(x))"
   ]
  },
  {
   "cell_type": "code",
   "execution_count": 15,
   "metadata": {},
   "outputs": [
    {
     "name": "stdout",
     "output_type": "stream",
     "text": [
      "Iteration:  0 \n",
      " Loss:  26.7974377 \n",
      " Optimized x:  1.81385744 \n",
      "\n",
      " Iteration:  399 \n",
      " Loss:  -12.3880863 \n",
      " Optimized x:  1.81385744 \n",
      "\n",
      "Iteration:  999 \n",
      " Loss:  -12.392828 \n",
      " Optimized x:  1.81385744\r\n"
     ]
    }
   ],
   "source": [
    "tf.print('Iteration: ', iterations[0],'\\n',\n",
    "         'Loss: ', val_loss[0], '\\n',\n",
    "         'Optimized x: ', x_opt[0],'\\n\\n',\n",
    "         'Iteration: ', iterations[399],'\\n',\n",
    "         'Loss: ', val_loss[399], '\\n',\n",
    "         'Optimized x: ', x_opt[399],'\\n\\n'\n",
    "         'Iteration: ', iterations[999],'\\n',\n",
    "         'Loss: ', val_loss[999], '\\n',\n",
    "         'Optimized x: ', x_opt[999]\n",
    "        )"
   ]
  },
  {
   "cell_type": "code",
   "execution_count": 16,
   "metadata": {},
   "outputs": [
    {
     "data": {
      "image/png": "[encoded data removed]",
      "text/plain": [
       "<Figure size 432x288 with 1 Axes>"
      ]
     },
     "metadata": {
      "needs_background": "light"
     },
     "output_type": "display_data"
    }
   ],
   "source": [
    "plt.plot(iterations, val_loss)\n",
    "plt.title(\"Loss vs. Iteration (Adam, x=0.5)\")\n",
    "plt.ylabel(\"Loss\")\n",
    "plt.xlabel(\"Iterations\")\n",
    "plt.show()"
   ]
  },
  {
   "cell_type": "markdown",
   "metadata": {},
   "source": [
    "***\n",
    ">$x=1.0$"
   ]
  },
  {
   "cell_type": "code",
   "execution_count": 17,
   "metadata": {},
   "outputs": [],
   "source": [
    "#Initialize x to 1.0\n",
    "x = tf.Variable(1.0)"
   ]
  },
  {
   "cell_type": "code",
   "execution_count": 18,
   "metadata": {},
   "outputs": [],
   "source": [
    "#Loss fuction \n",
    "loss = lambda:(x-A)*(x-B)*(x-C)*(x-D)"
   ]
  },
  {
   "cell_type": "code",
   "execution_count": 19,
   "metadata": {},
   "outputs": [],
   "source": [
    "#Create an instance of the optimizer with learning rate of .01\n",
    "optimizer = tf.optimizers.Adam(.01)"
   ]
  },
  {
   "cell_type": "code",
   "execution_count": 20,
   "metadata": {},
   "outputs": [],
   "source": [
    "iterations = []\n",
    "x_opt = []\n",
    "val_loss = []\n",
    "for i in range (1000):\n",
    "#for i in range(100):\n",
    "#for i in range(400):\n",
    "    iterations.append(i)\n",
    "    optimizer.minimize(loss,x)\n",
    "    x_opt.append(x)\n",
    "    val_loss.append(foe(x))"
   ]
  },
  {
   "cell_type": "code",
   "execution_count": 21,
   "metadata": {},
   "outputs": [
    {
     "name": "stdout",
     "output_type": "stream",
     "text": [
      "Iteration:  0 \n",
      " Loss:  -0.356709629 \n",
      " Optimized x:  1.81385911 \n",
      "\n",
      " Iteration:  399 \n",
      " Loss:  -12.3928318 \n",
      " Optimized x:  1.81385911 \n",
      "\n",
      "Iteration:  999 \n",
      " Loss:  -12.3928318 \n",
      " Optimized x:  1.81385911\r\n"
     ]
    }
   ],
   "source": [
    "tf.print('Iteration: ', iterations[0],'\\n',\n",
    "         'Loss: ', val_loss[0], '\\n',\n",
    "         'Optimized x: ', x_opt[0],'\\n\\n',\n",
    "         'Iteration: ', iterations[399],'\\n',\n",
    "         'Loss: ', val_loss[399], '\\n',\n",
    "         'Optimized x: ', x_opt[399],'\\n\\n'\n",
    "         'Iteration: ', iterations[999],'\\n',\n",
    "         'Loss: ', val_loss[999], '\\n',\n",
    "         'Optimized x: ', x_opt[999]\n",
    "        )"
   ]
  },
  {
   "cell_type": "code",
   "execution_count": 22,
   "metadata": {},
   "outputs": [
    {
     "data": {
      "image/png": "[encoded data removed]",
      "text/plain": [
       "<Figure size 432x288 with 1 Axes>"
      ]
     },
     "metadata": {
      "needs_background": "light"
     },
     "output_type": "display_data"
    }
   ],
   "source": [
    "plt.plot(iterations, val_loss)\n",
    "plt.title(\"Loss vs. Iteration (Adam, x=1.0)\")\n",
    "plt.ylabel(\"Loss\")\n",
    "plt.xlabel(\"Iterations\")\n",
    "plt.show()"
   ]
  },
  {
   "cell_type": "markdown",
   "metadata": {},
   "source": [
    "### SGD Optimizer\n",
    "***\n",
    "[Return to top](#Assignment-1:-Finding-the-Minimum-of-a-Function-Using-an-Optimizer)<br>\n",
    "[Adam Optimizer](#Adam-Optimizer)<br>\n",
    "[Ftrl Optimizer](#Ftrl-Optimizer)"
   ]
  },
  {
   "cell_type": "markdown",
   "metadata": {},
   "source": [
    ">$x = 0.0$"
   ]
  },
  {
   "cell_type": "code",
   "execution_count": 23,
   "metadata": {},
   "outputs": [],
   "source": [
    "#Create an instance of the optimizer with learning rate of .01\n",
    "optimizer = tf.optimizers.SGD(.01)"
   ]
  },
  {
   "cell_type": "code",
   "execution_count": 24,
   "metadata": {},
   "outputs": [],
   "source": [
    "#Initialize x to 0.0\n",
    "x = tf.Variable(0.0)"
   ]
  },
  {
   "cell_type": "code",
   "execution_count": 25,
   "metadata": {},
   "outputs": [],
   "source": [
    "#Loss fuction \n",
    "loss = lambda:(x-A)*(x-B)*(x-C)*(x-D)"
   ]
  },
  {
   "cell_type": "code",
   "execution_count": 26,
   "metadata": {},
   "outputs": [],
   "source": [
    "iterations = []\n",
    "x_opt = []\n",
    "val_loss = []\n",
    "for i in range (1000):\n",
    "#for i in range(10):\n",
    "#for i in range(100):\n",
    "    iterations.append(i)\n",
    "    optimizer.minimize(loss,x)\n",
    "    x_opt.append(x)\n",
    "    val_loss.append(foe(x))"
   ]
  },
  {
   "cell_type": "code",
   "execution_count": 27,
   "metadata": {},
   "outputs": [
    {
     "data": {
      "image/png": "[encoded data removed]",
      "text/plain": [
       "<Figure size 432x288 with 1 Axes>"
      ]
     },
     "metadata": {
      "needs_background": "light"
     },
     "output_type": "display_data"
    }
   ],
   "source": [
    "plt.plot(iterations, val_loss)\n",
    "plt.title(\"Loss vs. Iteration (SGD, x=0.0)\")\n",
    "plt.ylabel(\"Loss\")\n",
    "plt.xlabel(\"Iterations\")\n",
    "plt.show()"
   ]
  },
  {
   "cell_type": "code",
   "execution_count": 28,
   "metadata": {},
   "outputs": [
    {
     "name": "stdout",
     "output_type": "stream",
     "text": [
      "Iteration:  0 \n",
      " Loss:  -9.13296318 \n",
      " Optimized x:  1.81385922 \n",
      "\n",
      " Iteration:  10 \n",
      " Loss:  -12.3893671 \n",
      " Optimized x:  1.81385922 \n",
      "\n",
      "Iteration:  100 \n",
      " Loss:  -12.3928299 \n",
      " Optimized x:  1.81385922 \n",
      "\n",
      " Iteration:  999 \n",
      "Loss:  -12.3928299 \n",
      " Optimized x:  1.81385922\r\n"
     ]
    }
   ],
   "source": [
    "tf.print('Iteration: ', iterations[0],'\\n',\n",
    "         'Loss: ', val_loss[0], '\\n',\n",
    "         'Optimized x: ', x_opt[0],'\\n\\n',\n",
    "         'Iteration: ', iterations[10],'\\n',\n",
    "         'Loss: ', val_loss[10], '\\n',\n",
    "         'Optimized x: ', x_opt[10],'\\n\\n'\n",
    "         'Iteration: ', iterations[100],'\\n',\n",
    "         'Loss: ', val_loss[100], '\\n',\n",
    "         'Optimized x: ', x_opt[100],'\\n\\n',\n",
    "         'Iteration: ', iterations[999],'\\n'\n",
    "         'Loss: ', val_loss[999], '\\n',\n",
    "         'Optimized x: ', x_opt[999]\n",
    "        )"
   ]
  },
  {
   "cell_type": "markdown",
   "metadata": {},
   "source": [
    "***\n",
    ">$x=0.5$"
   ]
  },
  {
   "cell_type": "code",
   "execution_count": 29,
   "metadata": {},
   "outputs": [],
   "source": [
    "#Initialize x to 0.5\n",
    "x = tf.Variable(0.5)"
   ]
  },
  {
   "cell_type": "code",
   "execution_count": 30,
   "metadata": {},
   "outputs": [],
   "source": [
    "#Loss fuction \n",
    "loss = lambda:(x-A)*(x-B)*(x-C)*(x-D)"
   ]
  },
  {
   "cell_type": "code",
   "execution_count": 31,
   "metadata": {},
   "outputs": [],
   "source": [
    "#Create an instance of the optimizer with learning rate of .01\n",
    "optimizer = tf.optimizers.SGD(.01)"
   ]
  },
  {
   "cell_type": "code",
   "execution_count": 32,
   "metadata": {},
   "outputs": [],
   "source": [
    "iterations = []\n",
    "x_opt = []\n",
    "val_loss = []\n",
    "for i in range (1000):\n",
    "#for i in range(10):\n",
    "#for i in range(100):\n",
    "    iterations.append(i)\n",
    "    optimizer.minimize(loss,x)\n",
    "    x_opt.append(x)\n",
    "    val_loss.append(foe(x))"
   ]
  },
  {
   "cell_type": "code",
   "execution_count": 33,
   "metadata": {},
   "outputs": [
    {
     "name": "stdout",
     "output_type": "stream",
     "text": [
      "Iteration:  0 \n",
      " Loss:  -7.50581503 \n",
      " Optimized x:  1.81385922 \n",
      "\n",
      " Iteration:  10 \n",
      " Loss:  -12.388546 \n",
      " Optimized x:  1.81385922 \n",
      "\n",
      "Iteration:  100 \n",
      " Loss:  -12.3928299 \n",
      " Optimized x:  1.81385922 \n",
      "\n",
      " Iteration:  999 \n",
      " Loss:  -12.3928299 \n",
      " Optimized x:  1.81385922\r\n"
     ]
    }
   ],
   "source": [
    "tf.print('Iteration: ', iterations[0],'\\n',\n",
    "         'Loss: ', val_loss[0], '\\n',\n",
    "         'Optimized x: ', x_opt[0],'\\n\\n',\n",
    "         'Iteration: ', iterations[10],'\\n',\n",
    "         'Loss: ', val_loss[10], '\\n',\n",
    "         'Optimized x: ', x_opt[10],'\\n\\n'\n",
    "         'Iteration: ', iterations[100],'\\n',\n",
    "         'Loss: ', val_loss[100], '\\n',\n",
    "         'Optimized x: ', x_opt[100],'\\n\\n',\n",
    "         'Iteration: ', iterations[999],'\\n',\n",
    "         'Loss: ', val_loss[999], '\\n',\n",
    "         'Optimized x: ', x_opt[999]\n",
    "        )"
   ]
  },
  {
   "cell_type": "code",
   "execution_count": 34,
   "metadata": {},
   "outputs": [
    {
     "data": {
      "image/png": "[encoded data removed]",
      "text/plain": [
       "<Figure size 432x288 with 1 Axes>"
      ]
     },
     "metadata": {
      "needs_background": "light"
     },
     "output_type": "display_data"
    }
   ],
   "source": [
    "plt.plot(iterations, val_loss)\n",
    "plt.title(\"Loss vs. Iteration (SGD, x=0.5)\")\n",
    "plt.ylabel(\"Loss\")\n",
    "plt.xlabel(\"Iterations\")\n",
    "plt.show()"
   ]
  },
  {
   "cell_type": "markdown",
   "metadata": {},
   "source": [
    "***\n",
    ">$x=1.0$"
   ]
  },
  {
   "cell_type": "code",
   "execution_count": 35,
   "metadata": {},
   "outputs": [],
   "source": [
    "#Initialize x to 1.0\n",
    "x = tf.Variable(1.0)"
   ]
  },
  {
   "cell_type": "code",
   "execution_count": 36,
   "metadata": {},
   "outputs": [],
   "source": [
    "#Loss fuction \n",
    "loss = lambda:(x-A)*(x-B)*(x-C)*(x-D)"
   ]
  },
  {
   "cell_type": "code",
   "execution_count": 37,
   "metadata": {},
   "outputs": [],
   "source": [
    "#Create an instance of the optimizer with learning rate of .01\n",
    "optimizer = tf.optimizers.SGD(.01)"
   ]
  },
  {
   "cell_type": "code",
   "execution_count": 38,
   "metadata": {},
   "outputs": [],
   "source": [
    "iterations = []\n",
    "x_opt = []\n",
    "val_loss = []\n",
    "for i in range (1000):\n",
    "#for i in range(10):\n",
    "#for i in range(100):\n",
    "    iterations.append(i)\n",
    "    optimizer.minimize(loss,x)\n",
    "    x_opt.append(x)\n",
    "    val_loss.append(foe(x))"
   ]
  },
  {
   "cell_type": "code",
   "execution_count": 39,
   "metadata": {},
   "outputs": [
    {
     "name": "stdout",
     "output_type": "stream",
     "text": [
      "Iteration:  0 \n",
      " Loss:  -9.13296318 \n",
      " Optimized x:  1.81385922 \n",
      "\n",
      " Iteration:  10 \n",
      " Loss:  -12.3893671 \n",
      " Optimized x:  1.81385922 \n",
      "\n",
      "Iteration:  100 \n",
      " Loss:  -12.3928299 \n",
      " Optimized x:  1.81385922 \n",
      "\n",
      " Iteration:  999 \n",
      " Loss:  -12.3928299 \n",
      " Optimized x:  1.81385922\r\n"
     ]
    }
   ],
   "source": [
    "tf.print('Iteration: ', iterations[0],'\\n',\n",
    "         'Loss: ', val_loss[0], '\\n',\n",
    "         'Optimized x: ', x_opt[0],'\\n\\n',\n",
    "         'Iteration: ', iterations[10],'\\n',\n",
    "         'Loss: ', val_loss[10], '\\n',\n",
    "         'Optimized x: ', x_opt[10],'\\n\\n'\n",
    "         'Iteration: ', iterations[100],'\\n',\n",
    "         'Loss: ', val_loss[100], '\\n',\n",
    "         'Optimized x: ', x_opt[100],'\\n\\n',\n",
    "         'Iteration: ', iterations[999],'\\n',\n",
    "         'Loss: ', val_loss[999], '\\n',\n",
    "         'Optimized x: ', x_opt[999]\n",
    "        )"
   ]
  },
  {
   "cell_type": "code",
   "execution_count": 40,
   "metadata": {},
   "outputs": [
    {
     "data": {
      "image/png": "[encoded data removed]",
      "text/plain": [
       "<Figure size 432x288 with 1 Axes>"
      ]
     },
     "metadata": {
      "needs_background": "light"
     },
     "output_type": "display_data"
    }
   ],
   "source": [
    "plt.plot(iterations, val_loss)\n",
    "plt.title(\"Loss vs. Iteration (SGD, x=1.0)\")\n",
    "plt.ylabel(\"Loss\")\n",
    "plt.xlabel(\"Iterations\")\n",
    "plt.show()"
   ]
  },
  {
   "cell_type": "markdown",
   "metadata": {},
   "source": [
    "### Ftrl Optimizer\n",
    "***\n",
    "[Return to top](#Assignment-1:-Finding-the-Minimum-of-a-Function-Using-an-Optimizer)<br>\n",
    "[Adam Optimizer](#Adam-Optimizer)<br>\n",
    "[SGD Optimizer](#SGD-Optimizer)"
   ]
  },
  {
   "cell_type": "markdown",
   "metadata": {},
   "source": [
    ">$x=0.0$"
   ]
  },
  {
   "cell_type": "code",
   "execution_count": 41,
   "metadata": {},
   "outputs": [],
   "source": [
    "#Create an instance of the optimizer with learning rate of .01\n",
    "optimizer = tf.optimizers.Ftrl(.01)"
   ]
  },
  {
   "cell_type": "code",
   "execution_count": 42,
   "metadata": {},
   "outputs": [],
   "source": [
    "#Initialize x to 0.0\n",
    "x = tf.Variable(0.0)"
   ]
  },
  {
   "cell_type": "code",
   "execution_count": 43,
   "metadata": {},
   "outputs": [],
   "source": [
    "#Loss fuction \n",
    "loss = lambda:(x-A)*(x-B)*(x-C)*(x-D)"
   ]
  },
  {
   "cell_type": "code",
   "execution_count": 44,
   "metadata": {},
   "outputs": [],
   "source": [
    "iterations = []\n",
    "x_opt = []\n",
    "val_loss = []\n",
    "#for i in range (1000):\n",
    "#for i in range(900):\n",
    "#for i in range(1500):\n",
    "#for i in range(2000):\n",
    "for i in range(11000):\n",
    "    iterations.append(i)\n",
    "    optimizer.minimize(loss,x)\n",
    "    x_opt.append(x)\n",
    "    val_loss.append(foe(x))"
   ]
  },
  {
   "cell_type": "code",
   "execution_count": 45,
   "metadata": {},
   "outputs": [
    {
     "data": {
      "image/png": "[encoded data removed]",
      "text/plain": [
       "<Figure size 432x288 with 1 Axes>"
      ]
     },
     "metadata": {
      "needs_background": "light"
     },
     "output_type": "display_data"
    }
   ],
   "source": [
    "plt.plot(iterations, val_loss)\n",
    "plt.title(\"Loss vs. Iteration (Ftrl, x=0.0)\")\n",
    "plt.ylabel(\"Loss\")\n",
    "plt.xlabel(\"Iterations\")\n",
    "plt.show()"
   ]
  },
  {
   "cell_type": "code",
   "execution_count": 46,
   "metadata": {},
   "outputs": [
    {
     "name": "stdout",
     "output_type": "stream",
     "text": [
      "Iteration:  0 \n",
      " Loss:  78.6469 \n",
      " Optimized x:  1.36748457 \n",
      "\n",
      "Iteration:  900 \n",
      " Loss:  25.6695366 \n",
      " Optimized x:  1.36748457 \n",
      "\n",
      " Iteration:  1000 \n",
      " Loss:  23.7910538 \n",
      " Optimized x:  1.36748457 \n",
      "\n",
      " Iteration:  1500 \n",
      " Loss:  16.5438786 \n",
      " Optimized x:  1.36748457 \n",
      "\n",
      "Iteration:  2000 \n",
      " Loss:  11.5198841 \n",
      " Optimized x:  1.36748457 \n",
      "\n",
      " Iteration:  10999 \n",
      " Loss:  -9.25099468 \n",
      " Optimized x:  1.36748457\r\n"
     ]
    }
   ],
   "source": [
    "tf.print('Iteration: ', iterations[0],'\\n',\n",
    "         'Loss: ', val_loss[0], '\\n',\n",
    "         'Optimized x: ', x_opt[0], '\\n\\n'\n",
    "         'Iteration: ', iterations[900],'\\n',\n",
    "         'Loss: ', val_loss[900], '\\n',\n",
    "         'Optimized x: ', x_opt[900],'\\n\\n',\n",
    "         'Iteration: ', iterations[1000],'\\n',\n",
    "         'Loss: ', val_loss[1000], '\\n',\n",
    "         'Optimized x: ', x_opt[1000],'\\n\\n',\n",
    "         'Iteration: ', iterations[1500],'\\n',\n",
    "         'Loss: ', val_loss[1500], '\\n',\n",
    "         'Optimized x: ', x_opt[1500],'\\n\\n'\n",
    "         'Iteration: ', iterations[2000],'\\n',\n",
    "         'Loss: ', val_loss[2000], '\\n',\n",
    "         'Optimized x: ', x_opt[2000],'\\n\\n',\n",
    "         'Iteration: ', iterations[10999],'\\n',\n",
    "         'Loss: ', val_loss[10999], '\\n',\n",
    "         'Optimized x: ', x_opt[10999]\n",
    "        )"
   ]
  },
  {
   "cell_type": "markdown",
   "metadata": {},
   "source": [
    "***\n",
    ">$x=0.5$"
   ]
  },
  {
   "cell_type": "code",
   "execution_count": 47,
   "metadata": {},
   "outputs": [],
   "source": [
    "#Create an instance of the optimizer with learning rate of .01\n",
    "optimizer = tf.optimizers.Ftrl(.01)"
   ]
  },
  {
   "cell_type": "code",
   "execution_count": 48,
   "metadata": {},
   "outputs": [],
   "source": [
    "#Initialize x to 0.5\n",
    "x = tf.Variable(0.5)"
   ]
  },
  {
   "cell_type": "code",
   "execution_count": 49,
   "metadata": {},
   "outputs": [],
   "source": [
    "#Loss fuction \n",
    "loss = lambda:(x-A)*(x-B)*(x-C)*(x-D)"
   ]
  },
  {
   "cell_type": "code",
   "execution_count": 50,
   "metadata": {},
   "outputs": [],
   "source": [
    "iterations = []\n",
    "x_opt = []\n",
    "val_loss = []\n",
    "#for i in range (1000):\n",
    "#for i in range(900):\n",
    "#for i in range(1500):\n",
    "#for i in range(2000):\n",
    "for i in range(11000):\n",
    "    iterations.append(i)\n",
    "    optimizer.minimize(loss,x)\n",
    "    x_opt.append(x)\n",
    "    val_loss.append(foe(x))"
   ]
  },
  {
   "cell_type": "code",
   "execution_count": 51,
   "metadata": {},
   "outputs": [
    {
     "data": {
      "image/png": "[encoded data removed]",
      "text/plain": [
       "<Figure size 432x288 with 1 Axes>"
      ]
     },
     "metadata": {
      "needs_background": "light"
     },
     "output_type": "display_data"
    }
   ],
   "source": [
    "plt.plot(iterations, val_loss)\n",
    "plt.title(\"Loss vs. Iteration (Ftrl, x=0.5)\")\n",
    "plt.ylabel(\"Loss\")\n",
    "plt.xlabel(\"Iterations\")\n",
    "plt.show()"
   ]
  },
  {
   "cell_type": "code",
   "execution_count": 52,
   "metadata": {},
   "outputs": [
    {
     "name": "stdout",
     "output_type": "stream",
     "text": [
      "Iteration:  0 \n",
      " Loss:  26.9537411 \n",
      " Optimized x:  1.6710664 \n",
      "\n",
      "Iteration:  900 \n",
      " Loss:  -0.209309801 \n",
      " Optimized x:  1.6710664 \n",
      "\n",
      " Iteration:  1000 \n",
      " Loss:  -1.0340091 \n",
      " Optimized x:  1.6710664 \n",
      "\n",
      " Iteration:  1500 \n",
      " Loss:  -4.0815835 \n",
      " Optimized x:  1.6710664 \n",
      "\n",
      "Iteration:  2000 \n",
      " Loss:  -6.05039883 \n",
      " Optimized x:  1.6710664 \n",
      "\n",
      " Iteration:  10999 \n",
      " Loss:  -12.1167154 \n",
      " Optimized x:  1.6710664\r\n"
     ]
    }
   ],
   "source": [
    "tf.print('Iteration: ', iterations[0],'\\n',\n",
    "         'Loss: ', val_loss[0], '\\n',\n",
    "         'Optimized x: ', x_opt[0], '\\n\\n'\n",
    "         'Iteration: ', iterations[900],'\\n',\n",
    "         'Loss: ', val_loss[900], '\\n',\n",
    "         'Optimized x: ', x_opt[900],'\\n\\n',\n",
    "         'Iteration: ', iterations[1000],'\\n',\n",
    "         'Loss: ', val_loss[1000], '\\n',\n",
    "         'Optimized x: ', x_opt[1000],'\\n\\n',\n",
    "         'Iteration: ', iterations[1500],'\\n',\n",
    "         'Loss: ', val_loss[1500], '\\n',\n",
    "         'Optimized x: ', x_opt[1500],'\\n\\n'\n",
    "         'Iteration: ', iterations[2000],'\\n',\n",
    "         'Loss: ', val_loss[2000], '\\n',\n",
    "         'Optimized x: ', x_opt[2000],'\\n\\n',\n",
    "         'Iteration: ', iterations[10999],'\\n',\n",
    "         'Loss: ', val_loss[10999], '\\n',\n",
    "         'Optimized x: ', x_opt[10999]\n",
    "        )"
   ]
  },
  {
   "cell_type": "markdown",
   "metadata": {},
   "source": [
    "***\n",
    ">$x=1.0$"
   ]
  },
  {
   "cell_type": "code",
   "execution_count": 53,
   "metadata": {},
   "outputs": [],
   "source": [
    "#Create an instance of the optimizer with learning rate of .01\n",
    "optimizer = tf.optimizers.Ftrl(.01)"
   ]
  },
  {
   "cell_type": "code",
   "execution_count": 54,
   "metadata": {},
   "outputs": [],
   "source": [
    "#Initialize x to 0.5\n",
    "x = tf.Variable(1.0)"
   ]
  },
  {
   "cell_type": "code",
   "execution_count": 55,
   "metadata": {},
   "outputs": [],
   "source": [
    "#Loss fuction \n",
    "loss = lambda:(x-A)*(x-B)*(x-C)*(x-D)"
   ]
  },
  {
   "cell_type": "code",
   "execution_count": 56,
   "metadata": {},
   "outputs": [],
   "source": [
    "iterations = []\n",
    "x_opt = []\n",
    "val_loss = []\n",
    "#for i in range (1000):\n",
    "#for i in range(900):\n",
    "#for i in range(1500):\n",
    "#for i in range(2000):\n",
    "for i in range(11000):\n",
    "    iterations.append(i)\n",
    "    optimizer.minimize(loss,x)\n",
    "    x_opt.append(x)\n",
    "    val_loss.append(foe(x))"
   ]
  },
  {
   "cell_type": "code",
   "execution_count": 57,
   "metadata": {},
   "outputs": [
    {
     "data": {
      "image/png": "[encoded data removed]",
      "text/plain": [
       "<Figure size 432x288 with 1 Axes>"
      ]
     },
     "metadata": {
      "needs_background": "light"
     },
     "output_type": "display_data"
    }
   ],
   "source": [
    "plt.plot(iterations, val_loss)\n",
    "plt.title(\"Loss vs. Iteration (Ftrl, x=1.0)\")\n",
    "plt.ylabel(\"Loss\")\n",
    "plt.xlabel(\"Iterations\")\n",
    "plt.show()"
   ]
  },
  {
   "cell_type": "code",
   "execution_count": 58,
   "metadata": {},
   "outputs": [
    {
     "name": "stdout",
     "output_type": "stream",
     "text": [
      "Iteration:  0 \n",
      " Loss:  -0.0437248796 \n",
      " Optimized x:  1.80829597 \n",
      "\n",
      "Iteration:  900 \n",
      " Loss:  -10.535305 \n",
      " Optimized x:  1.80829597 \n",
      "\n",
      " Iteration:  1000 \n",
      " Loss:  -10.7501812 \n",
      " Optimized x:  1.80829597 \n",
      "\n",
      " Iteration:  1500 \n",
      " Loss:  -11.4569921 \n",
      " Optimized x:  1.80829597 \n",
      "\n",
      "Iteration:  2000 \n",
      " Loss:  -11.8291693 \n",
      " Optimized x:  1.80829597 \n",
      "\n",
      " Iteration:  10999 \n",
      " Loss:  -12.3924398 \n",
      " Optimized x:  1.80829597\r\n"
     ]
    }
   ],
   "source": [
    "tf.print('Iteration: ', iterations[0],'\\n',\n",
    "         'Loss: ', val_loss[0], '\\n',\n",
    "         'Optimized x: ', x_opt[0], '\\n\\n'\n",
    "         'Iteration: ', iterations[900],'\\n',\n",
    "         'Loss: ', val_loss[900], '\\n',\n",
    "         'Optimized x: ', x_opt[900],'\\n\\n',\n",
    "         'Iteration: ', iterations[1000],'\\n',\n",
    "         'Loss: ', val_loss[1000], '\\n',\n",
    "         'Optimized x: ', x_opt[1000],'\\n\\n',\n",
    "         'Iteration: ', iterations[1500],'\\n',\n",
    "         'Loss: ', val_loss[1500], '\\n',\n",
    "         'Optimized x: ', x_opt[1500],'\\n\\n'\n",
    "         'Iteration: ', iterations[2000],'\\n',\n",
    "         'Loss: ', val_loss[2000], '\\n',\n",
    "         'Optimized x: ', x_opt[2000],'\\n\\n',\n",
    "         'Iteration: ', iterations[10999],'\\n',\n",
    "         'Loss: ', val_loss[10999], '\\n',\n",
    "         'Optimized x: ', x_opt[10999]\n",
    "        )"
   ]
  },
  {
   "cell_type": "markdown",
   "metadata": {},
   "source": [
    "### Observations\n",
    "***\n",
    "[Return to top](#Assignment-1:-Finding-the-Minimum-of-a-Function-Using-an-Optimizer)<br>\n",
    "[Adam Optimizer](#Adam-Optimizer)<br>\n",
    "[SGD Optimizer](#SGD-Optimizer)<br>\n",
    "[Ftrl Optimizer](#Ftrl-Optimizer)"
   ]
  },
  {
   "cell_type": "code",
   "execution_count": 59,
   "metadata": {},
   "outputs": [
    {
     "data": {
      "text/html": [
       "<style>\n",
       "table {float:left}\n",
       "</style>\n"
      ],
      "text/plain": [
       "<IPython.core.display.HTML object>"
      ]
     },
     "metadata": {},
     "output_type": "display_data"
    }
   ],
   "source": [
    "%%html\n",
    "<style>\n",
    "table {float:left}\n",
    "</style>"
   ]
  },
  {
   "cell_type": "markdown",
   "metadata": {},
   "source": [
    "<table>\n",
    "<tr><th>Values of x and iterations used by Optimizer </th><th>Best Performing combination</th></tr>\n",
    "<tr><td>\n",
    "\n",
    "|                    \t| Value of x            | Iterations                            |\n",
    "|:-------------------\t|-----------------------|---------------------------------------|\n",
    "| **Adam Optimizer** \t| 0.0<br>0.5<br>1.0 \t|              100<br>400<br>1000       |\n",
    "|  **SGD Optimizer** \t| 0.0<br>0.5<br>1.0 \t|               10<br>100<br>1000      \t|\n",
    "| **Ftrl Optimizer** \t| 0.0<br>0.5<br>1.0 \t| 900<br>1000<br>1500<br>2000<br>11000 \t|\n",
    "\n",
    "</td><td>\n",
    "\n",
    "|                    \t| Value of x \t| Iterations \t| Optimized x \t|     Loss    \t|\n",
    "|:------------------\t|:----------:\t|:----------:\t|:-----------:\t|:-----------:\t|\n",
    "| **Adam Optimizer** \t|     1.0    \t|     400    \t|  1.81325269 \t| -12.3928251 \t|\n",
    "|  **SGD Optimizer** \t|     1.0    \t|     10     \t|  1.81385922 \t| -12.3928299 \t|\n",
    "| **Ftrl Optimizer** \t|     1.0    \t|    11000   \t|  1.80829597 \t| -12.3924398 \t|\n",
    "</td></tr> </table>"
   ]
  },
  {
   "cell_type": "markdown",
   "metadata": {},
   "source": [
    "#### Number of iterations \n",
    "\n",
    "For Adam optimizer the bests number of iterations chosen was 400. Around that number, the loss becomes quite constant and there is no much difference from greater number of iterations regardles of its initial value of x. \n",
    "\n",
    "For SGD the number of iterations chosen was 10. Like Adam optimizer, this one becomes constant around 10, therefore no further iterations were necessary.\n",
    "\n",
    "On the other hand, Ftrl Optimizer requires a significantly higher number of iterations to reach the minimum loss found with the previous two optimizers. Several trials were made and was determined that 11000 would be the closest to get the minimum loss. \n"
   ]
  },
  {
   "cell_type": "markdown",
   "metadata": {},
   "source": [
    "#### Plots"
   ]
  },
  {
   "cell_type": "markdown",
   "metadata": {},
   "source": [
    "Another indicator to take into account are the initial and final plots, where it can be observed how the curve which represents the loss, is gradually flattened out as the values of x are adjusted by the optimizers until it reaches a point were the loss no longer makes significant changes from each iteration."
   ]
  },
  {
   "cell_type": "markdown",
   "metadata": {},
   "source": [
    "#### Final remarks"
   ]
  },
  {
   "cell_type": "markdown",
   "metadata": {},
   "source": [
    "In the different optimizers the values of x found were able to minimize the loss. The one that converged the fastest was SGD since at 10 iterations it was able to minimize the loss. While several initial values of x were tested, the final outputs(i.e. Optimized x and Loss) all them provide values very close to each other. "
   ]
  }
 ],
 "metadata": {
  "kernelspec": {
   "display_name": "Python 3",
   "language": "python",
   "name": "python3"
  },
  "language_info": {
   "codemirror_mode": {
    "name": "ipython",
    "version": 3
   },
   "file_extension": ".py",
   "mimetype": "text/x-python",
   "name": "python",
   "nbconvert_exporter": "python",
   "pygments_lexer": "ipython3",
   "version": "3.7.13"
  }
 },
 "nbformat": 4,
 "nbformat_minor": 5
}
