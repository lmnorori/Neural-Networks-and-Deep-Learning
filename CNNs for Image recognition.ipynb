{
 "cells": [
  {
   "cell_type": "markdown",
   "metadata": {
    "id": "fXKhpRLFd_Xm"
   },
   "source": [
    "# Building a Multiclass Classifier Based on the Fashion MNIST Dataset"
   ]
  },
  {
   "cell_type": "code",
   "execution_count": 41,
   "metadata": {
    "id": "M7d7VH7AdiWx"
   },
   "outputs": [],
   "source": [
    "#Import the Fashion MNIST dataset from TensorFlow\n",
    "from tensorflow.keras.datasets import fashion_mnist\n",
    "from tensorflow.keras.preprocessing.image \\\n",
    "import ImageDataGenerator\n",
    "import numpy as np\n",
    "import tensorflow as tf\n",
    "from tensorflow.keras import layers"
   ]
  },
  {
   "cell_type": "markdown",
   "metadata": {
    "id": "G9y6EEnAhUJe"
   },
   "source": [
    "Source: [Fashion MNIST dataset](https://knowyourdata-tfds.withgoogle.com/#dataset=fashion_mnist&tab=STATS&select=default_segment.fashion_mnist.label.value&expanded_groups=fashion_mnist)\n",
    "\n",
    "Fashion-MNIST is a dataset of Zalando's article images consisting of a training set of 60,000 examples and a test set of 10,000 examples. Each example is a 28x28 grayscale image, associated with a label from 10 classes."
   ]
  },
  {
   "cell_type": "code",
   "execution_count": 42,
   "metadata": {
    "id": "HtkT2_H0gJ5c"
   },
   "outputs": [],
   "source": [
    "#Load the Fashion MNIST dataset\n",
    "(features_train, label_train), (features_test, label_test) = \\\n",
    "fashion_mnist.load_data()"
   ]
  },
  {
   "cell_type": "code",
   "execution_count": 43,
   "metadata": {
    "colab": {
     "base_uri": "https://localhost:8080/"
    },
    "id": "M4JMZjF2hTGA",
    "outputId": "fec553bf-9400-4047-c37b-7f87f1591acb"
   },
   "outputs": [
    {
     "name": "stdout",
     "output_type": "stream",
     "text": [
      "Number of features train:  10 \n",
      "Number of features test:  10\n"
     ]
    }
   ],
   "source": [
    "print('Number of features train: ',len(set(label_train)),'\\n'\n",
    "      'Number of features test: ',len(set(label_test)))"
   ]
  },
  {
   "cell_type": "code",
   "execution_count": 44,
   "metadata": {
    "colab": {
     "base_uri": "https://localhost:8080/"
    },
    "id": "JhQ3usylmhow",
    "outputId": "8e0decc3-493f-409f-c9ba-c084c29c7bfe"
   },
   "outputs": [
    {
     "data": {
      "text/plain": [
       "array([9, 0, 0, ..., 3, 0, 5], dtype=uint8)"
      ]
     },
     "execution_count": 44,
     "metadata": {},
     "output_type": "execute_result"
    }
   ],
   "source": [
    "#List the values that the train label can take\n",
    "label_train"
   ]
  },
  {
   "cell_type": "code",
   "execution_count": 45,
   "metadata": {
    "colab": {
     "base_uri": "https://localhost:8080/"
    },
    "id": "A0uIiYeUiXsK",
    "outputId": "a3d39097-b5fb-4acb-bd0f-416a0de11ba1"
   },
   "outputs": [
    {
     "data": {
      "text/plain": [
       "array([9, 2, 1, ..., 8, 1, 5], dtype=uint8)"
      ]
     },
     "execution_count": 45,
     "metadata": {},
     "output_type": "execute_result"
    }
   ],
   "source": [
    "#List the values that the test label can take\n",
    "label_test"
   ]
  },
  {
   "cell_type": "code",
   "execution_count": 46,
   "metadata": {
    "colab": {
     "base_uri": "https://localhost:8080/"
    },
    "id": "AThz0akgjO1K",
    "outputId": "8b6d07b8-a332-4d71-9be8-80cd1cbf2dc2"
   },
   "outputs": [
    {
     "name": "stdout",
     "output_type": "stream",
     "text": [
      "Features train:  (60000, 28, 28) \n",
      "Features test:  (10000, 28, 28)\n"
     ]
    }
   ],
   "source": [
    "#Print out the shape of features_train and features_test.\n",
    "print('Features train: ',features_train.shape, '\\n'\n",
    "      'Features test: ', features_test.shape)"
   ]
  },
  {
   "cell_type": "code",
   "execution_count": 47,
   "metadata": {
    "id": "HE6-w_IPtbCf"
   },
   "outputs": [],
   "source": [
    "#Reshape these to add a new dimension corresponding to the number of colours. For grayscale is 1\n",
    "features_train = features_train.reshape(60000, 28, 28, 1)\n",
    "features_test = features_test.reshape(10000, 28, 28, 1)"
   ]
  },
  {
   "cell_type": "code",
   "execution_count": 48,
   "metadata": {
    "id": "64x2tlWCzed5"
   },
   "outputs": [],
   "source": [
    "#Define batch size, image height and image width variables\n",
    "batch_size = 16\n",
    "img_height = 28\n",
    "img_width = 28"
   ]
  },
  {
   "cell_type": "code",
   "execution_count": 49,
   "metadata": {
    "id": "lzir70bUtwz-"
   },
   "outputs": [],
   "source": [
    "\"\"\"\n",
    "Create a data generator with the following data augmentation for training:\n",
    "rescale=1./255, \n",
    "rotation_range=40, \n",
    "width_shift_range=0.1, \n",
    "height_shift_range=0.1, \n",
    "shear_range=0.2, \n",
    "zoom_range=0.2, \n",
    "horizontal_flip=True, \n",
    "fill_mode='nearest'\n",
    "\"\"\"\n",
    "train_img_gen = ImageDataGenerator(rescale=1./255, \\\n",
    "                                   rotation_range=40, \\\n",
    "                                   width_shift_range=0.1, \\\n",
    "                                   height_shift_range=0.1, \\\n",
    "                                   shear_range=0.2, \\\n",
    "                                   zoom_range=0.2, \\\n",
    "                                   horizontal_flip=True, \\\n",
    "                                   fill_mode='nearest')"
   ]
  },
  {
   "cell_type": "code",
   "execution_count": 50,
   "metadata": {
    "id": "dgLNbKCwwW1e"
   },
   "outputs": [],
   "source": [
    "#Create another data generator for testing that only has rescaling\n",
    "val_img_gen = ImageDataGenerator(rescale=1./255)"
   ]
  },
  {
   "cell_type": "code",
   "execution_count": 51,
   "metadata": {
    "id": "yfxVdQ_czHjM"
   },
   "outputs": [],
   "source": [
    "#Create a data generator called val_data_gen using \n",
    "train_data_gen = train_img_gen.flow(features_train, \\\n",
    "                                    label_train, \\\n",
    "                                    batch_size=batch_size)"
   ]
  },
  {
   "cell_type": "code",
   "execution_count": 52,
   "metadata": {
    "id": "PaqFWjN6zwCa"
   },
   "outputs": [],
   "source": [
    "#Create a data generator called val_data_gen\n",
    "val_data_gen = train_img_gen.flow(features_test, \\\n",
    "                                  label_test, \\\n",
    "                                  batch_size=batch_size)"
   ]
  },
  {
   "cell_type": "code",
   "execution_count": 53,
   "metadata": {
    "id": "Un1SlN8P0Qyq"
   },
   "outputs": [],
   "source": [
    "#Set a random seed for numpy and tensorflow\n",
    "np.random.seed(8)\n",
    "tf.random.set_seed(8)"
   ]
  },
  {
   "cell_type": "code",
   "execution_count": 54,
   "metadata": {
    "id": "eor3XUnjwho2"
   },
   "outputs": [],
   "source": [
    "\"\"\"\n",
    "Create a neural network architecture with the following layers: \n",
    "* a convolutional layer with Conv2D(64, (3,3), activation='relu') \n",
    "  * followed by MaxPooling2D(2,2);\n",
    "* a convolutional layer with Conv2D(64, (3,3), activation='relu') \n",
    "  * followed by MaxPooling2D(2,2); a flatten layer;\n",
    "* a fully connected layer with Dense(128, activation='relu');\n",
    "* a fully connected layer with Dense(10, activation='softmax')\n",
    "\"\"\"\n",
    "model = tf.keras.Sequential\\\n",
    "        ([layers.Conv2D(64, (3,3), activation='relu',\\\n",
    "                        input_shape=(img_height, \\\n",
    "                                     img_width ,1)), \\\n",
    "                        layers.MaxPooling2D((2,2)), \\\n",
    "                        layers.Conv2D(128, (3,3),\\\n",
    "                                      activation='relu'),\\\n",
    "                        layers.MaxPooling2D((2,2)),\\\n",
    "                        layers.Flatten(), \\\n",
    "                        layers.Dense(128, \\\n",
    "                                     activation='relu'), \\\n",
    "                        layers.Dense(10, \\\n",
    "                                     activation='softmax')])"
   ]
  },
  {
   "cell_type": "code",
   "execution_count": 55,
   "metadata": {
    "id": "ehkCczv30LPL"
   },
   "outputs": [],
   "source": [
    "#Compile the model using an Adam optimizer with a learning rate of 0.001.\n",
    "optimizer = tf.keras.optimizers.Adam(0.001)\n",
    "model.compile(loss='sparse_categorical_crossentropy', \\\n",
    "              optimizer=optimizer, metrics=['accuracy'])"
   ]
  },
  {
   "cell_type": "code",
   "execution_count": 56,
   "metadata": {
    "colab": {
     "base_uri": "https://localhost:8080/"
    },
    "id": "YtD_lVyH1qIj",
    "outputId": "e0d746ed-573a-4e13-cff8-cbfad8aa9cb9"
   },
   "outputs": [
    {
     "name": "stdout",
     "output_type": "stream",
     "text": [
      "Epoch 1/5\n"
     ]
    },
    {
     "name": "stderr",
     "output_type": "stream",
     "text": [
      "/usr/local/lib/python3.7/dist-packages/ipykernel_launcher.py:8: UserWarning: `Model.fit_generator` is deprecated and will be removed in a future version. Please use `Model.fit`, which supports generators.\n",
      "  \n"
     ]
    },
    {
     "name": "stdout",
     "output_type": "stream",
     "text": [
      "3750/3750 [==============================] - 187s 50ms/step - loss: 0.7986 - accuracy: 0.7013 - val_loss: 0.6313 - val_accuracy: 0.7640\n",
      "Epoch 2/5\n",
      "3750/3750 [==============================] - 186s 50ms/step - loss: 0.5788 - accuracy: 0.7824 - val_loss: 0.5509 - val_accuracy: 0.7953\n",
      "Epoch 3/5\n",
      "3750/3750 [==============================] - 185s 49ms/step - loss: 0.5189 - accuracy: 0.8065 - val_loss: 0.5340 - val_accuracy: 0.7945\n",
      "Epoch 4/5\n",
      "3750/3750 [==============================] - 184s 49ms/step - loss: 0.4800 - accuracy: 0.8194 - val_loss: 0.4714 - val_accuracy: 0.8228\n",
      "Epoch 5/5\n",
      "3750/3750 [==============================] - 186s 50ms/step - loss: 0.4543 - accuracy: 0.8294 - val_loss: 0.4806 - val_accuracy: 0.8267\n"
     ]
    },
    {
     "data": {
      "text/plain": [
       "<keras.callbacks.History at 0x7ffa9dabaf50>"
      ]
     },
     "execution_count": 56,
     "metadata": {},
     "output_type": "execute_result"
    }
   ],
   "source": [
    "#Train the model and evaluate it on the testing set.\n",
    "model.fit_generator(train_data_gen, \\\n",
    "                    steps_per_epoch=len(features_train) \\\n",
    "                                    // batch_size, \\\n",
    "                    epochs=5, \\\n",
    "                    validation_data=val_data_gen, \\\n",
    "                    validation_steps=len(features_test) \\\n",
    "                                     // batch_size)"
   ]
  },
  {
   "cell_type": "markdown",
   "metadata": {
    "id": "JwZF63kw63si"
   },
   "source": [
    "**Observation:**  \n",
    "\n",
    "This CNN model was trained on 60,000 samples, of which 10,000 were used for testing. After training for five epochs, the following accuracy scores where achived: \n",
    "\n",
    "* The training set accuracy was 0.8294.  \n",
    "* The validation set accuracy was 0.8267.  "
   ]
  }
 ],
 "metadata": {
  "colab": {
   "provenance": []
  },
  "kernelspec": {
   "display_name": "Python 3",
   "language": "python",
   "name": "python3"
  },
  "language_info": {
   "codemirror_mode": {
    "name": "ipython",
    "version": 3
   },
   "file_extension": ".py",
   "mimetype": "text/x-python",
   "name": "python",
   "nbconvert_exporter": "python",
   "pygments_lexer": "ipython3",
   "version": "3.7.13"
  }
 },
 "nbformat": 4,
 "nbformat_minor": 1
}
