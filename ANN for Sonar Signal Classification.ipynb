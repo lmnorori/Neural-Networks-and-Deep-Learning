{
 "cells": [
  {
   "cell_type": "markdown",
   "metadata": {},
   "source": [
    "# Building a Multilayer Neural Network to Classify Sonar Signals\n",
    "***"
   ]
  },
  {
   "cell_type": "markdown",
   "metadata": {},
   "source": [
    "## Table of contents\n",
    "1. [Import and data description](#Import-and-data-description)\n",
    "2. [Data preparation](#Data-preparation)\n",
    "3. [Building the multilayer model](#Building-the-multilayer-model)\n",
    "4. [Training configuration](#Training-configuration)\n",
    "5. [Model training and evaluation](#Model-training-and-evaluation)\n",
    "6. [Final remarks](#Final-remarks)"
   ]
  },
  {
   "cell_type": "markdown",
   "metadata": {},
   "source": [
    "### Import and data description\n",
    "\n",
    "[Return to top](#Building-a-Multilayer-Neural-Network-to-Classify-Sonar-Signals)  "
   ]
  },
  {
   "cell_type": "code",
   "execution_count": 1,
   "metadata": {},
   "outputs": [],
   "source": [
    "#For data analysis/manipulation\n",
    "import tensorflow as tf\n",
    "import pandas as pd\n",
    "from sklearn.preprocessing import LabelEncoder\n",
    "\n",
    "#For Neural Network setup\n",
    "from tensorflow.keras.models import Sequential\n",
    "from tensorflow.keras.layers import Dense\n",
    "from tensorflow.keras.layers import Dropout"
   ]
  },
  {
   "cell_type": "code",
   "execution_count": 2,
   "metadata": {},
   "outputs": [
    {
     "data": {
      "text/html": [
       "<div>\n",
       "<style scoped>\n",
       "    .dataframe tbody tr th:only-of-type {\n",
       "        vertical-align: middle;\n",
       "    }\n",
       "\n",
       "    .dataframe tbody tr th {\n",
       "        vertical-align: top;\n",
       "    }\n",
       "\n",
       "    .dataframe thead th {\n",
       "        text-align: right;\n",
       "    }\n",
       "</style>\n",
       "<table border=\"1\" class=\"dataframe\">\n",
       "  <thead>\n",
       "    <tr style=\"text-align: right;\">\n",
       "      <th></th>\n",
       "      <th>attribute_1</th>\n",
       "      <th>attribute_2</th>\n",
       "      <th>attribute_3</th>\n",
       "      <th>attribute_4</th>\n",
       "      <th>attribute_5</th>\n",
       "      <th>attribute_6</th>\n",
       "      <th>attribute_7</th>\n",
       "      <th>attribute_8</th>\n",
       "      <th>attribute_9</th>\n",
       "      <th>attribute_10</th>\n",
       "      <th>...</th>\n",
       "      <th>attribute_52</th>\n",
       "      <th>attribute_53</th>\n",
       "      <th>attribute_54</th>\n",
       "      <th>attribute_55</th>\n",
       "      <th>attribute_56</th>\n",
       "      <th>attribute_57</th>\n",
       "      <th>attribute_58</th>\n",
       "      <th>attribute_59</th>\n",
       "      <th>attribute_60</th>\n",
       "      <th>Class</th>\n",
       "    </tr>\n",
       "  </thead>\n",
       "  <tbody>\n",
       "    <tr>\n",
       "      <td>0</td>\n",
       "      <td>0.0200</td>\n",
       "      <td>0.0371</td>\n",
       "      <td>0.0428</td>\n",
       "      <td>0.0207</td>\n",
       "      <td>0.0954</td>\n",
       "      <td>0.0986</td>\n",
       "      <td>0.1539</td>\n",
       "      <td>0.1601</td>\n",
       "      <td>0.3109</td>\n",
       "      <td>0.2111</td>\n",
       "      <td>...</td>\n",
       "      <td>0.0027</td>\n",
       "      <td>0.0065</td>\n",
       "      <td>0.0159</td>\n",
       "      <td>0.0072</td>\n",
       "      <td>0.0167</td>\n",
       "      <td>0.0180</td>\n",
       "      <td>0.0084</td>\n",
       "      <td>0.0090</td>\n",
       "      <td>0.0032</td>\n",
       "      <td>Rock</td>\n",
       "    </tr>\n",
       "    <tr>\n",
       "      <td>1</td>\n",
       "      <td>0.0453</td>\n",
       "      <td>0.0523</td>\n",
       "      <td>0.0843</td>\n",
       "      <td>0.0689</td>\n",
       "      <td>0.1183</td>\n",
       "      <td>0.2583</td>\n",
       "      <td>0.2156</td>\n",
       "      <td>0.3481</td>\n",
       "      <td>0.3337</td>\n",
       "      <td>0.2872</td>\n",
       "      <td>...</td>\n",
       "      <td>0.0084</td>\n",
       "      <td>0.0089</td>\n",
       "      <td>0.0048</td>\n",
       "      <td>0.0094</td>\n",
       "      <td>0.0191</td>\n",
       "      <td>0.0140</td>\n",
       "      <td>0.0049</td>\n",
       "      <td>0.0052</td>\n",
       "      <td>0.0044</td>\n",
       "      <td>Rock</td>\n",
       "    </tr>\n",
       "    <tr>\n",
       "      <td>2</td>\n",
       "      <td>0.0262</td>\n",
       "      <td>0.0582</td>\n",
       "      <td>0.1099</td>\n",
       "      <td>0.1083</td>\n",
       "      <td>0.0974</td>\n",
       "      <td>0.2280</td>\n",
       "      <td>0.2431</td>\n",
       "      <td>0.3771</td>\n",
       "      <td>0.5598</td>\n",
       "      <td>0.6194</td>\n",
       "      <td>...</td>\n",
       "      <td>0.0232</td>\n",
       "      <td>0.0166</td>\n",
       "      <td>0.0095</td>\n",
       "      <td>0.0180</td>\n",
       "      <td>0.0244</td>\n",
       "      <td>0.0316</td>\n",
       "      <td>0.0164</td>\n",
       "      <td>0.0095</td>\n",
       "      <td>0.0078</td>\n",
       "      <td>Rock</td>\n",
       "    </tr>\n",
       "    <tr>\n",
       "      <td>3</td>\n",
       "      <td>0.0100</td>\n",
       "      <td>0.0171</td>\n",
       "      <td>0.0623</td>\n",
       "      <td>0.0205</td>\n",
       "      <td>0.0205</td>\n",
       "      <td>0.0368</td>\n",
       "      <td>0.1098</td>\n",
       "      <td>0.1276</td>\n",
       "      <td>0.0598</td>\n",
       "      <td>0.1264</td>\n",
       "      <td>...</td>\n",
       "      <td>0.0121</td>\n",
       "      <td>0.0036</td>\n",
       "      <td>0.0150</td>\n",
       "      <td>0.0085</td>\n",
       "      <td>0.0073</td>\n",
       "      <td>0.0050</td>\n",
       "      <td>0.0044</td>\n",
       "      <td>0.0040</td>\n",
       "      <td>0.0117</td>\n",
       "      <td>Rock</td>\n",
       "    </tr>\n",
       "    <tr>\n",
       "      <td>4</td>\n",
       "      <td>0.0762</td>\n",
       "      <td>0.0666</td>\n",
       "      <td>0.0481</td>\n",
       "      <td>0.0394</td>\n",
       "      <td>0.0590</td>\n",
       "      <td>0.0649</td>\n",
       "      <td>0.1209</td>\n",
       "      <td>0.2467</td>\n",
       "      <td>0.3564</td>\n",
       "      <td>0.4459</td>\n",
       "      <td>...</td>\n",
       "      <td>0.0031</td>\n",
       "      <td>0.0054</td>\n",
       "      <td>0.0105</td>\n",
       "      <td>0.0110</td>\n",
       "      <td>0.0015</td>\n",
       "      <td>0.0072</td>\n",
       "      <td>0.0048</td>\n",
       "      <td>0.0107</td>\n",
       "      <td>0.0094</td>\n",
       "      <td>Rock</td>\n",
       "    </tr>\n",
       "  </tbody>\n",
       "</table>\n",
       "<p>5 rows × 61 columns</p>\n",
       "</div>"
      ],
      "text/plain": [
       "   attribute_1  attribute_2  attribute_3  attribute_4  attribute_5  \\\n",
       "0       0.0200       0.0371       0.0428       0.0207       0.0954   \n",
       "1       0.0453       0.0523       0.0843       0.0689       0.1183   \n",
       "2       0.0262       0.0582       0.1099       0.1083       0.0974   \n",
       "3       0.0100       0.0171       0.0623       0.0205       0.0205   \n",
       "4       0.0762       0.0666       0.0481       0.0394       0.0590   \n",
       "\n",
       "   attribute_6  attribute_7  attribute_8  attribute_9  attribute_10  ...  \\\n",
       "0       0.0986       0.1539       0.1601       0.3109        0.2111  ...   \n",
       "1       0.2583       0.2156       0.3481       0.3337        0.2872  ...   \n",
       "2       0.2280       0.2431       0.3771       0.5598        0.6194  ...   \n",
       "3       0.0368       0.1098       0.1276       0.0598        0.1264  ...   \n",
       "4       0.0649       0.1209       0.2467       0.3564        0.4459  ...   \n",
       "\n",
       "   attribute_52  attribute_53  attribute_54  attribute_55  attribute_56  \\\n",
       "0        0.0027        0.0065        0.0159        0.0072        0.0167   \n",
       "1        0.0084        0.0089        0.0048        0.0094        0.0191   \n",
       "2        0.0232        0.0166        0.0095        0.0180        0.0244   \n",
       "3        0.0121        0.0036        0.0150        0.0085        0.0073   \n",
       "4        0.0031        0.0054        0.0105        0.0110        0.0015   \n",
       "\n",
       "   attribute_57  attribute_58  attribute_59  attribute_60  Class  \n",
       "0        0.0180        0.0084        0.0090        0.0032   Rock  \n",
       "1        0.0140        0.0049        0.0052        0.0044   Rock  \n",
       "2        0.0316        0.0164        0.0095        0.0078   Rock  \n",
       "3        0.0050        0.0044        0.0040        0.0117   Rock  \n",
       "4        0.0072        0.0048        0.0107        0.0094   Rock  \n",
       "\n",
       "[5 rows x 61 columns]"
      ]
     },
     "execution_count": 2,
     "metadata": {},
     "output_type": "execute_result"
    }
   ],
   "source": [
    "#Load sonar.csv\n",
    "df = pd.read_csv('sonar.csv')\n",
    "df.head()"
   ]
  },
  {
   "cell_type": "code",
   "execution_count": 3,
   "metadata": {},
   "outputs": [
    {
     "data": {
      "text/plain": [
       "attribute_1     float64\n",
       "attribute_2     float64\n",
       "attribute_3     float64\n",
       "attribute_4     float64\n",
       "attribute_5     float64\n",
       "                 ...   \n",
       "attribute_57    float64\n",
       "attribute_58    float64\n",
       "attribute_59    float64\n",
       "attribute_60    float64\n",
       "Class            object\n",
       "Length: 61, dtype: object"
      ]
     },
     "execution_count": 3,
     "metadata": {},
     "output_type": "execute_result"
    }
   ],
   "source": [
    "#Data types\n",
    "df.dtypes"
   ]
  },
  {
   "cell_type": "markdown",
   "metadata": {},
   "source": [
    "**Data Description**  \n",
    "\n",
    "This dataset classifies sonar signals which bounced off a metal cylinder and a roughly cylindrical rock.   \n",
    "\n",
    "**Features/Labels and their datatypes**\n",
    "\n",
    "The features are a set of 60 floating point numbers in the range 0.0 to 1.0. The label associated with each record contains \"Rock\" if the object in which was tested was a rock and \"Mine\" if it was a metal cylinder. Given that we have two labels, this means is a binary classification problem.\n",
    "\n",
    "**Source**  \n",
    "[UCI Machine Leaning Repository](https://archive.ics.uci.edu/ml/datasets/Connectionist+Bench+(Sonar,+Mines+vs.+Rocks))"
   ]
  },
  {
   "cell_type": "markdown",
   "metadata": {},
   "source": [
    "### Data preparation\n",
    "\n",
    "[Return to top](#Building-a-Multilayer-Neural-Network-to-Classify-Sonar-Signals)  \n",
    "[Go to Import and data description](#Import-and-data-description)  "
   ]
  },
  {
   "cell_type": "code",
   "execution_count": 4,
   "metadata": {},
   "outputs": [],
   "source": [
    "#Create a dataframe that holds the input FEATURES\n",
    "X_input = df.iloc[:, :-1]       \n",
    "\n",
    "#Create a second dataframe to hold the target LABELS\n",
    "Y_label = df['Class'].values"
   ]
  },
  {
   "cell_type": "code",
   "execution_count": 7,
   "metadata": {},
   "outputs": [],
   "source": [
    "#Reshape the labels to make them neural network-compatible using one-hot-encoding\n",
    "labelencoder_Y = LabelEncoder() \n",
    "Y_label = labelencoder_Y.fit_transform(Y_label)\n",
    "Y_label = Y_label.reshape([208, 1])"
   ]
  },
  {
   "cell_type": "markdown",
   "metadata": {},
   "source": [
    "### Building the multilayer model\n",
    "\n",
    ">For the purpose of testing, 4 models were build to compare the differences between different hyperparameter configurations.\n",
    "\n",
    "[Return to top](#Building-a-Multilayer-Neural-Network-to-Classify-Sonar-Signals)  \n",
    "[Go to Import and data description](#Import-and-data-description)  \n",
    "[Go to Data preparation](#Data-preparation)  "
   ]
  },
  {
   "cell_type": "code",
   "execution_count": 8,
   "metadata": {},
   "outputs": [],
   "source": [
    "#Use Keras Sequential model to build the multilayer model \n",
    "model = Sequential()                                     \n",
    "model.add(Dense(300,input_dim=60, activation = 'relu')) #input layer\n",
    "model.add(Dense(200,  activation = 'relu'))             #hidden layer 1\n",
    "model.add(Dense(100,  activation = 'relu'))             #hidden layer 2\n",
    "model.add(Dense(1,  activation = 'sigmoid'))            #output layer"
   ]
  },
  {
   "cell_type": "code",
   "execution_count": 9,
   "metadata": {},
   "outputs": [],
   "source": [
    "#Use Keras Sequential model to build the multilayer model\n",
    "model1 = Sequential()                                     \n",
    "model1.add(Dense(24,input_dim=60, activation = 'relu')) #input layer\n",
    "model1.add(Dense(12,  activation = 'relu'))             #hidden layer 1\n",
    "model1.add(Dense(6,  activation = 'relu'))              #hidden layer 2\n",
    "model1.add(Dense(3,  activation = 'relu'))              #hidden layer 3\n",
    "model1.add(Dense(2,  activation = 'relu'))              #hidden layer 4\n",
    "model1.add(Dense(1,  activation = 'sigmoid'))           #output layer"
   ]
  },
  {
   "cell_type": "code",
   "execution_count": 10,
   "metadata": {},
   "outputs": [],
   "source": [
    "#Use Keras Sequential model to build the multilayer model\n",
    "model2 = Sequential()                                     \n",
    "model2.add(Dense(60,input_dim=60, activation = 'relu')) #input layer\n",
    "model2.add(Dense(50,  activation = 'relu'))             #hidden layer 1\n",
    "model2.add(Dense(40,  activation = 'relu'))             #hidden layer 2\n",
    "model2.add(Dense(30,  activation = 'relu'))             #hidden layer 3\n",
    "model2.add(Dense(20,  activation = 'relu'))             #hidden layer 4\n",
    "model2.add(Dense(1,  activation = 'sigmoid'))           #output layer"
   ]
  },
  {
   "cell_type": "code",
   "execution_count": 11,
   "metadata": {},
   "outputs": [],
   "source": [
    "#Use Keras Sequential model to build the multilayer model\n",
    "model3 = Sequential()                                     \n",
    "model3.add(Dense(1000,input_dim=60, activation = 'relu')) #input layer\n",
    "model3.add(Dense(500,  activation = 'relu'))              #hidden layer 1\n",
    "model3.add(Dense(1,  activation = 'sigmoid'))             #output layer"
   ]
  },
  {
   "cell_type": "code",
   "execution_count": 12,
   "metadata": {},
   "outputs": [],
   "source": [
    "#Use Keras Sequential model to build the multilayer model\n",
    "model4 = Sequential()                                     \n",
    "model4.add(Dense(1000,input_dim=60, activation = 'relu')) #input layer\n",
    "model4.add(Dropout(.20))                                  #Randomly deactivate 20% of the neurons in the input layer\n",
    "model4.add(Dense(500,  activation = 'relu'))              #hidden layer 1\n",
    "model4.add(Dense(1,  activation = 'sigmoid'))             #output layer"
   ]
  },
  {
   "cell_type": "markdown",
   "metadata": {},
   "source": [
    "**What is happening in these lines of code**\n",
    "\n",
    "* **_Sequential_** is a Keras model that facilitates adding layers where each layer has exactly one input tensor\n",
    "* **_Dense_** is the type of layer that will be added.\n",
    "* **_mymodel.add(Dense())_** is read as follows:\n",
    "    * **_units (first parameter within Dense)_** = Number of neurons in the layer (refer to the table below for more details)\n",
    "    * **_input_dim_** = Number of features **(60 features)\n",
    "    * **_activation_** = Activation function used in each layer\n",
    "        * ReLU - Used for multilayer neural network problems\n",
    "        * Sigmoid - Used in the last layer given this is binary classifier\n",
    "    \n",
    "**Hyperparameters used:**  \n",
    "\n",
    "|                         \t|                               model                               \t|                               model1                              \t|                               model2                              \t|                               model3                              \t|                               model4                              \t|\n",
    "|-------------------------\t|:-----------------------------------------------------------------:\t|:-----------------------------------------------------------------:\t|:-----------------------------------------------------------------:\t|:-----------------------------------------------------------------:\t|:-----------------------------------------------------------------:\t|\n",
    "|      **Optimizers**     \t|                                Adam                               \t|                                Adam                                \t|                                Adam                               \t|                                Adam                               \t|                                Adam                               \t|\n",
    "| **Activation Function** \t| ReLU (for initial and hidden layers)<br>Sigmoid (for last layer)  \t| ReLU (for initial and hidden layers)<br>Sigmoid (for last layer)  \t| ReLU (for initial and hidden layers)<br>Sigmoid (for last layer)  \t| ReLU (for initial and hidden layers)<br>Sigmoid (for last layer)  \t| ReLU (for initial and hidden layers)<br>Sigmoid (for last layer)  \t|\n",
    "| **Hidden layers**       \t|                                 2                                 \t|                                 4                                 \t|                                 5                                 \t|                                 1                                 \t|                                 1                                 \t|\n",
    "| **Units/Neurons**       \t|                       **300**-200-100-**1**                       \t|                      **24**-12-6-3-2-**1**                      \t    |                 **60**-50-40-30-20-**1**                        \t|                         **1000**-500-**1**                        \t|               **1000**-20% Dropout-500-**1**                        \t|\n",
    "| **Epochs**              \t|                                 30                                  \t|                                 300                                  \t|                                 30                                  \t|                                 30                                    |                                 30                                    |"
   ]
  },
  {
   "cell_type": "markdown",
   "metadata": {},
   "source": [
    "### Training configuration\n",
    "\n",
    "[Return to top](#Building-a-Multilayer-Neural-Network-to-Classify-Sonar-Signals)  \n",
    "[Go to Import and data description](#Import-and-data-description)  \n",
    "[Go to Data preparation](#Data-preparation)  \n",
    "[Go to Building the multilayer model](#Building-the-multilayer-model)  "
   ]
  },
  {
   "cell_type": "code",
   "execution_count": 13,
   "metadata": {},
   "outputs": [
    {
     "name": "stdout",
     "output_type": "stream",
     "text": [
      "Model: \"sequential\"\n",
      "_________________________________________________________________\n",
      "Layer (type)                 Output Shape              Param #   \n",
      "=================================================================\n",
      "dense (Dense)                (None, 300)               18300     \n",
      "_________________________________________________________________\n",
      "dense_1 (Dense)              (None, 200)               60200     \n",
      "_________________________________________________________________\n",
      "dense_2 (Dense)              (None, 100)               20100     \n",
      "_________________________________________________________________\n",
      "dense_3 (Dense)              (None, 1)                 101       \n",
      "=================================================================\n",
      "Total params: 98,701\n",
      "Trainable params: 98,701\n",
      "Non-trainable params: 0\n",
      "_________________________________________________________________\n"
     ]
    }
   ],
   "source": [
    "#Inspect model configuration\n",
    "model.summary()"
   ]
  },
  {
   "cell_type": "code",
   "execution_count": 14,
   "metadata": {},
   "outputs": [
    {
     "name": "stdout",
     "output_type": "stream",
     "text": [
      "Model: \"sequential_1\"\n",
      "_________________________________________________________________\n",
      "Layer (type)                 Output Shape              Param #   \n",
      "=================================================================\n",
      "dense_4 (Dense)              (None, 24)                1464      \n",
      "_________________________________________________________________\n",
      "dense_5 (Dense)              (None, 12)                300       \n",
      "_________________________________________________________________\n",
      "dense_6 (Dense)              (None, 6)                 78        \n",
      "_________________________________________________________________\n",
      "dense_7 (Dense)              (None, 3)                 21        \n",
      "_________________________________________________________________\n",
      "dense_8 (Dense)              (None, 2)                 8         \n",
      "_________________________________________________________________\n",
      "dense_9 (Dense)              (None, 1)                 3         \n",
      "=================================================================\n",
      "Total params: 1,874\n",
      "Trainable params: 1,874\n",
      "Non-trainable params: 0\n",
      "_________________________________________________________________\n"
     ]
    }
   ],
   "source": [
    "#Inspect model1 configuration\n",
    "model1.summary()"
   ]
  },
  {
   "cell_type": "code",
   "execution_count": 15,
   "metadata": {},
   "outputs": [
    {
     "name": "stdout",
     "output_type": "stream",
     "text": [
      "Model: \"sequential_2\"\n",
      "_________________________________________________________________\n",
      "Layer (type)                 Output Shape              Param #   \n",
      "=================================================================\n",
      "dense_10 (Dense)             (None, 60)                3660      \n",
      "_________________________________________________________________\n",
      "dense_11 (Dense)             (None, 50)                3050      \n",
      "_________________________________________________________________\n",
      "dense_12 (Dense)             (None, 40)                2040      \n",
      "_________________________________________________________________\n",
      "dense_13 (Dense)             (None, 30)                1230      \n",
      "_________________________________________________________________\n",
      "dense_14 (Dense)             (None, 20)                620       \n",
      "_________________________________________________________________\n",
      "dense_15 (Dense)             (None, 1)                 21        \n",
      "=================================================================\n",
      "Total params: 10,621\n",
      "Trainable params: 10,621\n",
      "Non-trainable params: 0\n",
      "_________________________________________________________________\n"
     ]
    }
   ],
   "source": [
    "#Inspect model2 configuration\n",
    "model2.summary()"
   ]
  },
  {
   "cell_type": "code",
   "execution_count": 16,
   "metadata": {},
   "outputs": [
    {
     "name": "stdout",
     "output_type": "stream",
     "text": [
      "Model: \"sequential_3\"\n",
      "_________________________________________________________________\n",
      "Layer (type)                 Output Shape              Param #   \n",
      "=================================================================\n",
      "dense_16 (Dense)             (None, 1000)              61000     \n",
      "_________________________________________________________________\n",
      "dense_17 (Dense)             (None, 500)               500500    \n",
      "_________________________________________________________________\n",
      "dense_18 (Dense)             (None, 1)                 501       \n",
      "=================================================================\n",
      "Total params: 562,001\n",
      "Trainable params: 562,001\n",
      "Non-trainable params: 0\n",
      "_________________________________________________________________\n"
     ]
    }
   ],
   "source": [
    "#Inspect model3 configuration\n",
    "model3.summary()"
   ]
  },
  {
   "cell_type": "code",
   "execution_count": 17,
   "metadata": {},
   "outputs": [
    {
     "name": "stdout",
     "output_type": "stream",
     "text": [
      "Model: \"sequential_4\"\n",
      "_________________________________________________________________\n",
      "Layer (type)                 Output Shape              Param #   \n",
      "=================================================================\n",
      "dense_19 (Dense)             (None, 1000)              61000     \n",
      "_________________________________________________________________\n",
      "dropout (Dropout)            (None, 1000)              0         \n",
      "_________________________________________________________________\n",
      "dense_20 (Dense)             (None, 500)               500500    \n",
      "_________________________________________________________________\n",
      "dense_21 (Dense)             (None, 1)                 501       \n",
      "=================================================================\n",
      "Total params: 562,001\n",
      "Trainable params: 562,001\n",
      "Non-trainable params: 0\n",
      "_________________________________________________________________\n"
     ]
    }
   ],
   "source": [
    "#Inspect model4 configuration\n",
    "model4.summary()"
   ]
  },
  {
   "cell_type": "markdown",
   "metadata": {},
   "source": [
    "#### Model Inspection Summary\n",
    "Parameters to learn across layers:  \n",
    "\n",
    "|                \t| **model** \t| **model1** \t| **model2** \t| **model3** \t| **model4** \t|\n",
    "|----------------\t|:---------:\t|:----------:\t|:----------:\t|:----------:\t|:----------:\t|\n",
    "| **Parameters** \t|   98,701  \t|     1874    \t|   10,621  \t|   562,001  \t|   562,001  \t|\n",
    "\n",
    "[Go to Final remarks](#Final-remarks)  "
   ]
  },
  {
   "cell_type": "code",
   "execution_count": 18,
   "metadata": {},
   "outputs": [],
   "source": [
    "#Provide the training parameters using compile method\n",
    "model.compile(optimizer='adam',loss='binary_crossentropy',metrics=['accuracy'])"
   ]
  },
  {
   "cell_type": "code",
   "execution_count": 19,
   "metadata": {},
   "outputs": [],
   "source": [
    "#Provide the training parameters using compile method\n",
    "model1.compile(optimizer='adam',loss='binary_crossentropy',metrics=['accuracy'])"
   ]
  },
  {
   "cell_type": "code",
   "execution_count": 20,
   "metadata": {},
   "outputs": [],
   "source": [
    "#Provide the training parameters using compile method\n",
    "model2.compile(optimizer='adam',loss='binary_crossentropy',metrics=['accuracy'])"
   ]
  },
  {
   "cell_type": "code",
   "execution_count": 21,
   "metadata": {},
   "outputs": [],
   "source": [
    "#Provide the training parameters using compile method\n",
    "model3.compile(optimizer='adam',loss='binary_crossentropy',metrics=['accuracy'])"
   ]
  },
  {
   "cell_type": "code",
   "execution_count": 22,
   "metadata": {},
   "outputs": [],
   "source": [
    "#Provide the training parameters using compile method\n",
    "model4.compile(optimizer='adam',loss='binary_crossentropy',metrics=['accuracy'])"
   ]
  },
  {
   "cell_type": "markdown",
   "metadata": {},
   "source": [
    "**What is happening in these lines of code**\n",
    "\n",
    "* **_mymodel.compile_** is read as follows:\n",
    "     * **optimizer** = **Adam** is the one used for the different tests\n",
    "     * **loss** = **'binary_crossentropy'** for binary classfiers. Calculates how often predictions equal labels.\n",
    "     * **metrics** = **'accuracy'** displays information such as the number of epochs, the training loss, the training accuracy, the test loss, and the test accuracy during the training process."
   ]
  },
  {
   "cell_type": "markdown",
   "metadata": {},
   "source": [
    "### Model training and evaluation\n",
    "\n",
    "[Return to top](#Building-a-Multilayer-Neural-Network-to-Classify-Sonar-Signals)  \n",
    "[Go to Import and data description](#Import-and-data-description)  \n",
    "[Go to Data preparation](#Data-preparation)  \n",
    "[Go to Building the multilayer model](#Building-the-multilayer-model)  \n",
    "[Go to Training configuration](#Training-configuration)  "
   ]
  },
  {
   "cell_type": "code",
   "execution_count": 23,
   "metadata": {},
   "outputs": [
    {
     "name": "stdout",
     "output_type": "stream",
     "text": [
      "Train on 208 samples\n",
      "Epoch 1/30\n",
      "208/208 [==============================] - 0s 2ms/sample - loss: 0.6716 - accuracy: 0.5577\n",
      "Epoch 2/30\n",
      "208/208 [==============================] - 0s 120us/sample - loss: 0.6185 - accuracy: 0.7308\n",
      "Epoch 3/30\n",
      "208/208 [==============================] - 0s 134us/sample - loss: 0.5759 - accuracy: 0.7067\n",
      "Epoch 4/30\n",
      "208/208 [==============================] - 0s 101us/sample - loss: 0.5139 - accuracy: 0.7548\n",
      "Epoch 5/30\n",
      "208/208 [==============================] - 0s 110us/sample - loss: 0.4639 - accuracy: 0.8221\n",
      "Epoch 6/30\n",
      "208/208 [==============================] - 0s 107us/sample - loss: 0.4139 - accuracy: 0.8317\n",
      "Epoch 7/30\n",
      "208/208 [==============================] - 0s 134us/sample - loss: 0.3767 - accuracy: 0.8269\n",
      "Epoch 8/30\n",
      "208/208 [==============================] - 0s 127us/sample - loss: 0.3444 - accuracy: 0.8510\n",
      "Epoch 9/30\n",
      "208/208 [==============================] - 0s 129us/sample - loss: 0.3243 - accuracy: 0.8750\n",
      "Epoch 10/30\n",
      "208/208 [==============================] - 0s 120us/sample - loss: 0.3439 - accuracy: 0.8510\n",
      "Epoch 11/30\n",
      "208/208 [==============================] - 0s 115us/sample - loss: 0.3130 - accuracy: 0.8702\n",
      "Epoch 12/30\n",
      "208/208 [==============================] - 0s 129us/sample - loss: 0.2651 - accuracy: 0.8990\n",
      "Epoch 13/30\n",
      "208/208 [==============================] - 0s 120us/sample - loss: 0.2401 - accuracy: 0.8846\n",
      "Epoch 14/30\n",
      "208/208 [==============================] - 0s 139us/sample - loss: 0.2213 - accuracy: 0.9135\n",
      "Epoch 15/30\n",
      "208/208 [==============================] - 0s 139us/sample - loss: 0.1995 - accuracy: 0.9279\n",
      "Epoch 16/30\n",
      "208/208 [==============================] - ETA: 0s - loss: 0.1816 - accuracy: 0.96 - 0s 131us/sample - loss: 0.1822 - accuracy: 0.9327\n",
      "Epoch 17/30\n",
      "208/208 [==============================] - 0s 120us/sample - loss: 0.1969 - accuracy: 0.9087\n",
      "Epoch 18/30\n",
      "208/208 [==============================] - 0s 125us/sample - loss: 0.1849 - accuracy: 0.9327\n",
      "Epoch 19/30\n",
      "208/208 [==============================] - 0s 110us/sample - loss: 0.1873 - accuracy: 0.9087\n",
      "Epoch 20/30\n",
      "208/208 [==============================] - 0s 130us/sample - loss: 0.1873 - accuracy: 0.9231\n",
      "Epoch 21/30\n",
      "208/208 [==============================] - 0s 129us/sample - loss: 0.1636 - accuracy: 0.9471\n",
      "Epoch 22/30\n",
      "208/208 [==============================] - 0s 187us/sample - loss: 0.1289 - accuracy: 0.9615\n",
      "Epoch 23/30\n",
      "208/208 [==============================] - 0s 125us/sample - loss: 0.1015 - accuracy: 0.9808\n",
      "Epoch 24/30\n",
      "208/208 [==============================] - 0s 115us/sample - loss: 0.0941 - accuracy: 0.9760\n",
      "Epoch 25/30\n",
      "208/208 [==============================] - 0s 120us/sample - loss: 0.0759 - accuracy: 0.9856\n",
      "Epoch 26/30\n",
      "208/208 [==============================] - 0s 105us/sample - loss: 0.0700 - accuracy: 0.9904\n",
      "Epoch 27/30\n",
      "208/208 [==============================] - 0s 125us/sample - loss: 0.0809 - accuracy: 0.9760\n",
      "Epoch 28/30\n",
      "208/208 [==============================] - 0s 111us/sample - loss: 0.0609 - accuracy: 0.9856\n",
      "Epoch 29/30\n",
      "208/208 [==============================] - 0s 125us/sample - loss: 0.0629 - accuracy: 0.9856\n",
      "Epoch 30/30\n",
      "208/208 [==============================] - 0s 139us/sample - loss: 0.0557 - accuracy: 0.9856\n"
     ]
    },
    {
     "data": {
      "text/plain": [
       "<tensorflow.python.keras.callbacks.History at 0x1ebd5543c88>"
      ]
     },
     "execution_count": 23,
     "metadata": {},
     "output_type": "execute_result"
    }
   ],
   "source": [
    "#Train model\n",
    "model.fit(X_input, Y_label, epochs=30)"
   ]
  },
  {
   "cell_type": "code",
   "execution_count": 24,
   "metadata": {},
   "outputs": [
    {
     "name": "stdout",
     "output_type": "stream",
     "text": [
      "208/208 [==============================] - 0s 393us/sample - loss: 0.0499 - accuracy: 0.9856\n"
     ]
    },
    {
     "data": {
      "text/plain": [
       "[0.049904003739356995, 0.9855769]"
      ]
     },
     "execution_count": 24,
     "metadata": {},
     "output_type": "execute_result"
    }
   ],
   "source": [
    "#Evaluate model\n",
    "model.evaluate(X_input, Y_label)"
   ]
  },
  {
   "cell_type": "code",
   "execution_count": 25,
   "metadata": {},
   "outputs": [
    {
     "name": "stdout",
     "output_type": "stream",
     "text": [
      "Train on 208 samples\n",
      "Epoch 1/300\n",
      "208/208 [==============================] - 0s 2ms/sample - loss: 0.6950 - accuracy: 0.4712\n",
      "Epoch 2/300\n",
      "208/208 [==============================] - 0s 77us/sample - loss: 0.6931 - accuracy: 0.5000\n",
      "Epoch 3/300\n",
      "208/208 [==============================] - 0s 96us/sample - loss: 0.6920 - accuracy: 0.5337\n",
      "Epoch 4/300\n",
      "208/208 [==============================] - 0s 101us/sample - loss: 0.6908 - accuracy: 0.6346\n",
      "Epoch 5/300\n",
      "208/208 [==============================] - 0s 101us/sample - loss: 0.6894 - accuracy: 0.6875\n",
      "Epoch 6/300\n",
      "208/208 [==============================] - 0s 91us/sample - loss: 0.6883 - accuracy: 0.7067\n",
      "Epoch 7/300\n",
      "208/208 [==============================] - 0s 96us/sample - loss: 0.6868 - accuracy: 0.7308\n",
      "Epoch 8/300\n",
      "208/208 [==============================] - 0s 96us/sample - loss: 0.6855 - accuracy: 0.7308\n",
      "Epoch 9/300\n",
      "208/208 [==============================] - 0s 86us/sample - loss: 0.6843 - accuracy: 0.7308\n",
      "Epoch 10/300\n",
      "208/208 [==============================] - 0s 86us/sample - loss: 0.6830 - accuracy: 0.6971\n",
      "Epoch 11/300\n",
      "208/208 [==============================] - 0s 105us/sample - loss: 0.6812 - accuracy: 0.7067\n",
      "Epoch 12/300\n",
      "208/208 [==============================] - 0s 96us/sample - loss: 0.6791 - accuracy: 0.7452\n",
      "Epoch 13/300\n",
      "208/208 [==============================] - 0s 96us/sample - loss: 0.6767 - accuracy: 0.7500\n",
      "Epoch 14/300\n",
      "208/208 [==============================] - 0s 96us/sample - loss: 0.6743 - accuracy: 0.7548\n",
      "Epoch 15/300\n",
      "208/208 [==============================] - 0s 101us/sample - loss: 0.6719 - accuracy: 0.7644\n",
      "Epoch 16/300\n",
      "208/208 [==============================] - 0s 77us/sample - loss: 0.6689 - accuracy: 0.7500\n",
      "Epoch 17/300\n",
      "208/208 [==============================] - 0s 101us/sample - loss: 0.6660 - accuracy: 0.7644\n",
      "Epoch 18/300\n",
      "208/208 [==============================] - 0s 91us/sample - loss: 0.6628 - accuracy: 0.7260\n",
      "Epoch 19/300\n",
      "208/208 [==============================] - 0s 96us/sample - loss: 0.6593 - accuracy: 0.7740\n",
      "Epoch 20/300\n",
      "208/208 [==============================] - 0s 91us/sample - loss: 0.6542 - accuracy: 0.7644\n",
      "Epoch 21/300\n",
      "208/208 [==============================] - 0s 91us/sample - loss: 0.6493 - accuracy: 0.7452\n",
      "Epoch 22/300\n",
      "208/208 [==============================] - 0s 91us/sample - loss: 0.6445 - accuracy: 0.7500\n",
      "Epoch 23/300\n",
      "208/208 [==============================] - 0s 82us/sample - loss: 0.6389 - accuracy: 0.7548\n",
      "Epoch 24/300\n",
      "208/208 [==============================] - 0s 91us/sample - loss: 0.6332 - accuracy: 0.7212\n",
      "Epoch 25/300\n",
      "208/208 [==============================] - 0s 115us/sample - loss: 0.6257 - accuracy: 0.7692\n",
      "Epoch 26/300\n",
      "208/208 [==============================] - 0s 86us/sample - loss: 0.6183 - accuracy: 0.7500\n",
      "Epoch 27/300\n",
      "208/208 [==============================] - 0s 170us/sample - loss: 0.6108 - accuracy: 0.7692\n",
      "Epoch 28/300\n",
      "208/208 [==============================] - 0s 134us/sample - loss: 0.6035 - accuracy: 0.7885\n",
      "Epoch 29/300\n",
      "208/208 [==============================] - 0s 105us/sample - loss: 0.5958 - accuracy: 0.7740\n",
      "Epoch 30/300\n",
      "208/208 [==============================] - 0s 120us/sample - loss: 0.5888 - accuracy: 0.7644\n",
      "Epoch 31/300\n",
      "208/208 [==============================] - 0s 110us/sample - loss: 0.5798 - accuracy: 0.7933\n",
      "Epoch 32/300\n",
      "208/208 [==============================] - 0s 96us/sample - loss: 0.5721 - accuracy: 0.8365\n",
      "Epoch 33/300\n",
      "208/208 [==============================] - 0s 110us/sample - loss: 0.5659 - accuracy: 0.7692\n",
      "Epoch 34/300\n",
      "208/208 [==============================] - 0s 101us/sample - loss: 0.5539 - accuracy: 0.8173\n",
      "Epoch 35/300\n",
      "208/208 [==============================] - 0s 129us/sample - loss: 0.5469 - accuracy: 0.8317\n",
      "Epoch 36/300\n",
      "208/208 [==============================] - 0s 115us/sample - loss: 0.5366 - accuracy: 0.8077\n",
      "Epoch 37/300\n",
      "208/208 [==============================] - 0s 96us/sample - loss: 0.5302 - accuracy: 0.8510\n",
      "Epoch 38/300\n",
      "208/208 [==============================] - 0s 110us/sample - loss: 0.5225 - accuracy: 0.8029\n",
      "Epoch 39/300\n",
      "208/208 [==============================] - 0s 139us/sample - loss: 0.5168 - accuracy: 0.8462\n",
      "Epoch 40/300\n",
      "208/208 [==============================] - 0s 105us/sample - loss: 0.5087 - accuracy: 0.8750\n",
      "Epoch 41/300\n",
      "208/208 [==============================] - 0s 105us/sample - loss: 0.5027 - accuracy: 0.8221\n",
      "Epoch 42/300\n",
      "208/208 [==============================] - 0s 115us/sample - loss: 0.5004 - accuracy: 0.8750\n",
      "Epoch 43/300\n",
      "208/208 [==============================] - 0s 101us/sample - loss: 0.4962 - accuracy: 0.7981\n",
      "Epoch 44/300\n",
      "208/208 [==============================] - 0s 115us/sample - loss: 0.4877 - accuracy: 0.8798\n",
      "Epoch 45/300\n",
      "208/208 [==============================] - 0s 101us/sample - loss: 0.4803 - accuracy: 0.9038\n",
      "Epoch 46/300\n",
      "208/208 [==============================] - 0s 110us/sample - loss: 0.4718 - accuracy: 0.8894\n",
      "Epoch 47/300\n",
      "208/208 [==============================] - 0s 120us/sample - loss: 0.4649 - accuracy: 0.8942\n",
      "Epoch 48/300\n",
      "208/208 [==============================] - 0s 125us/sample - loss: 0.4625 - accuracy: 0.8798\n",
      "Epoch 49/300\n",
      "208/208 [==============================] - 0s 125us/sample - loss: 0.4560 - accuracy: 0.8798\n",
      "Epoch 50/300\n",
      "208/208 [==============================] - 0s 115us/sample - loss: 0.4518 - accuracy: 0.8942\n",
      "Epoch 51/300\n",
      "208/208 [==============================] - 0s 96us/sample - loss: 0.4485 - accuracy: 0.8990\n",
      "Epoch 52/300\n",
      "208/208 [==============================] - 0s 101us/sample - loss: 0.4434 - accuracy: 0.8990\n",
      "Epoch 53/300\n",
      "208/208 [==============================] - 0s 120us/sample - loss: 0.4386 - accuracy: 0.8942\n",
      "Epoch 54/300\n",
      "208/208 [==============================] - 0s 105us/sample - loss: 0.4346 - accuracy: 0.8894\n",
      "Epoch 55/300\n",
      "208/208 [==============================] - 0s 110us/sample - loss: 0.4329 - accuracy: 0.9038\n",
      "Epoch 56/300\n",
      "208/208 [==============================] - 0s 110us/sample - loss: 0.4270 - accuracy: 0.9135\n",
      "Epoch 57/300\n",
      "208/208 [==============================] - 0s 77us/sample - loss: 0.4218 - accuracy: 0.9135\n",
      "Epoch 58/300\n",
      "208/208 [==============================] - 0s 86us/sample - loss: 0.4186 - accuracy: 0.9135\n",
      "Epoch 59/300\n",
      "208/208 [==============================] - 0s 86us/sample - loss: 0.4139 - accuracy: 0.9087\n",
      "Epoch 60/300\n",
      "208/208 [==============================] - 0s 96us/sample - loss: 0.4106 - accuracy: 0.9038\n",
      "Epoch 61/300\n",
      "208/208 [==============================] - 0s 86us/sample - loss: 0.4091 - accuracy: 0.9279\n",
      "Epoch 62/300\n",
      "208/208 [==============================] - 0s 105us/sample - loss: 0.4091 - accuracy: 0.8990\n",
      "Epoch 63/300\n",
      "208/208 [==============================] - 0s 96us/sample - loss: 0.4036 - accuracy: 0.9087\n",
      "Epoch 64/300\n",
      "208/208 [==============================] - 0s 245us/sample - loss: 0.3953 - accuracy: 0.9231\n",
      "Epoch 65/300\n",
      "208/208 [==============================] - 0s 91us/sample - loss: 0.3932 - accuracy: 0.9231\n",
      "Epoch 66/300\n",
      "208/208 [==============================] - 0s 86us/sample - loss: 0.3939 - accuracy: 0.9327\n",
      "Epoch 67/300\n",
      "208/208 [==============================] - 0s 91us/sample - loss: 0.3885 - accuracy: 0.9327\n",
      "Epoch 68/300\n",
      "208/208 [==============================] - 0s 168us/sample - loss: 0.3823 - accuracy: 0.9183\n",
      "Epoch 69/300\n",
      "208/208 [==============================] - 0s 86us/sample - loss: 0.3841 - accuracy: 0.9279\n",
      "Epoch 70/300\n",
      "208/208 [==============================] - 0s 86us/sample - loss: 0.3746 - accuracy: 0.9231\n",
      "Epoch 71/300\n",
      "208/208 [==============================] - 0s 86us/sample - loss: 0.3712 - accuracy: 0.9471\n",
      "Epoch 72/300\n",
      "208/208 [==============================] - 0s 149us/sample - loss: 0.3674 - accuracy: 0.9423\n",
      "Epoch 73/300\n",
      "208/208 [==============================] - 0s 125us/sample - loss: 0.3663 - accuracy: 0.9423\n",
      "Epoch 74/300\n",
      "208/208 [==============================] - 0s 91us/sample - loss: 0.3597 - accuracy: 0.9471\n",
      "Epoch 75/300\n",
      "208/208 [==============================] - 0s 91us/sample - loss: 0.3625 - accuracy: 0.9423\n",
      "Epoch 76/300\n",
      "208/208 [==============================] - 0s 96us/sample - loss: 0.3579 - accuracy: 0.9423\n",
      "Epoch 77/300\n",
      "208/208 [==============================] - 0s 110us/sample - loss: 0.3528 - accuracy: 0.9327\n",
      "Epoch 78/300\n",
      "208/208 [==============================] - 0s 96us/sample - loss: 0.3512 - accuracy: 0.9519\n",
      "Epoch 79/300\n",
      "208/208 [==============================] - 0s 82us/sample - loss: 0.3470 - accuracy: 0.9519\n",
      "Epoch 80/300\n",
      "208/208 [==============================] - 0s 96us/sample - loss: 0.3461 - accuracy: 0.9471\n",
      "Epoch 81/300\n",
      "208/208 [==============================] - 0s 101us/sample - loss: 0.3408 - accuracy: 0.9567\n",
      "Epoch 82/300\n",
      "208/208 [==============================] - 0s 96us/sample - loss: 0.3387 - accuracy: 0.9471\n",
      "Epoch 83/300\n",
      "208/208 [==============================] - 0s 91us/sample - loss: 0.3344 - accuracy: 0.9519\n",
      "Epoch 84/300\n",
      "208/208 [==============================] - 0s 91us/sample - loss: 0.3330 - accuracy: 0.9471\n",
      "Epoch 85/300\n",
      "208/208 [==============================] - 0s 86us/sample - loss: 0.3363 - accuracy: 0.9519\n",
      "Epoch 86/300\n",
      "208/208 [==============================] - 0s 82us/sample - loss: 0.3324 - accuracy: 0.9519\n",
      "Epoch 87/300\n",
      "208/208 [==============================] - 0s 82us/sample - loss: 0.3298 - accuracy: 0.9375\n",
      "Epoch 88/300\n",
      "208/208 [==============================] - 0s 82us/sample - loss: 0.3409 - accuracy: 0.9471\n",
      "Epoch 89/300\n",
      "208/208 [==============================] - 0s 249us/sample - loss: 0.3193 - accuracy: 0.9567\n",
      "Epoch 90/300\n",
      "208/208 [==============================] - 0s 101us/sample - loss: 0.3191 - accuracy: 0.9423\n",
      "Epoch 91/300\n",
      "208/208 [==============================] - 0s 153us/sample - loss: 0.3367 - accuracy: 0.9519\n",
      "Epoch 92/300\n",
      "208/208 [==============================] - 0s 96us/sample - loss: 0.3163 - accuracy: 0.9471\n",
      "Epoch 93/300\n",
      "208/208 [==============================] - 0s 91us/sample - loss: 0.3147 - accuracy: 0.9567\n",
      "Epoch 94/300\n",
      "208/208 [==============================] - 0s 91us/sample - loss: 0.3117 - accuracy: 0.9567\n",
      "Epoch 95/300\n",
      "208/208 [==============================] - 0s 101us/sample - loss: 0.3072 - accuracy: 0.9519\n",
      "Epoch 96/300\n",
      "208/208 [==============================] - 0s 105us/sample - loss: 0.3088 - accuracy: 0.9519\n",
      "Epoch 97/300\n",
      "208/208 [==============================] - 0s 96us/sample - loss: 0.3024 - accuracy: 0.9471\n",
      "Epoch 98/300\n",
      "208/208 [==============================] - 0s 82us/sample - loss: 0.2976 - accuracy: 0.9663\n",
      "Epoch 99/300\n",
      "208/208 [==============================] - 0s 91us/sample - loss: 0.2960 - accuracy: 0.9615\n",
      "Epoch 100/300\n",
      "208/208 [==============================] - 0s 110us/sample - loss: 0.2931 - accuracy: 0.9663\n",
      "Epoch 101/300\n",
      "208/208 [==============================] - 0s 91us/sample - loss: 0.2914 - accuracy: 0.9663\n",
      "Epoch 102/300\n",
      "208/208 [==============================] - 0s 91us/sample - loss: 0.2930 - accuracy: 0.9615\n",
      "Epoch 103/300\n",
      "208/208 [==============================] - 0s 86us/sample - loss: 0.2874 - accuracy: 0.9663\n",
      "Epoch 104/300\n",
      "208/208 [==============================] - 0s 101us/sample - loss: 0.2874 - accuracy: 0.9615\n",
      "Epoch 105/300\n",
      "208/208 [==============================] - 0s 86us/sample - loss: 0.2854 - accuracy: 0.9615\n",
      "Epoch 106/300\n",
      "208/208 [==============================] - 0s 82us/sample - loss: 0.2802 - accuracy: 0.9663\n",
      "Epoch 107/300\n",
      "208/208 [==============================] - 0s 82us/sample - loss: 0.2816 - accuracy: 0.9663\n",
      "Epoch 108/300\n",
      "208/208 [==============================] - 0s 86us/sample - loss: 0.2759 - accuracy: 0.9663\n",
      "Epoch 109/300\n",
      "208/208 [==============================] - 0s 86us/sample - loss: 0.2745 - accuracy: 0.9663\n",
      "Epoch 110/300\n",
      "208/208 [==============================] - 0s 86us/sample - loss: 0.2844 - accuracy: 0.9712\n",
      "Epoch 111/300\n",
      "208/208 [==============================] - 0s 86us/sample - loss: 0.2774 - accuracy: 0.9615\n",
      "Epoch 112/300\n",
      "208/208 [==============================] - 0s 82us/sample - loss: 0.2819 - accuracy: 0.9663\n",
      "Epoch 113/300\n",
      "208/208 [==============================] - 0s 86us/sample - loss: 0.2752 - accuracy: 0.9615\n",
      "Epoch 114/300\n",
      "208/208 [==============================] - 0s 110us/sample - loss: 0.2716 - accuracy: 0.9663\n",
      "Epoch 115/300\n",
      "208/208 [==============================] - 0s 86us/sample - loss: 0.2662 - accuracy: 0.9615\n",
      "Epoch 116/300\n",
      "208/208 [==============================] - 0s 86us/sample - loss: 0.2650 - accuracy: 0.9663\n",
      "Epoch 117/300\n",
      "208/208 [==============================] - 0s 96us/sample - loss: 0.2639 - accuracy: 0.9663\n",
      "Epoch 118/300\n",
      "208/208 [==============================] - 0s 91us/sample - loss: 0.2617 - accuracy: 0.9615\n",
      "Epoch 119/300\n",
      "208/208 [==============================] - 0s 96us/sample - loss: 0.2669 - accuracy: 0.9663\n",
      "Epoch 120/300\n",
      "208/208 [==============================] - 0s 101us/sample - loss: 0.2615 - accuracy: 0.9663\n",
      "Epoch 121/300\n",
      "208/208 [==============================] - 0s 91us/sample - loss: 0.2591 - accuracy: 0.9663\n",
      "Epoch 122/300\n",
      "208/208 [==============================] - 0s 91us/sample - loss: 0.2600 - accuracy: 0.9663\n",
      "Epoch 123/300\n",
      "208/208 [==============================] - 0s 86us/sample - loss: 0.2583 - accuracy: 0.9663\n",
      "Epoch 124/300\n",
      "208/208 [==============================] - 0s 96us/sample - loss: 0.2493 - accuracy: 0.9663\n",
      "Epoch 125/300\n",
      "208/208 [==============================] - 0s 101us/sample - loss: 0.2490 - accuracy: 0.9712\n",
      "Epoch 126/300\n",
      "208/208 [==============================] - 0s 91us/sample - loss: 0.2482 - accuracy: 0.9712\n",
      "Epoch 127/300\n",
      "208/208 [==============================] - 0s 91us/sample - loss: 0.2487 - accuracy: 0.9712\n",
      "Epoch 128/300\n",
      "208/208 [==============================] - 0s 96us/sample - loss: 0.2451 - accuracy: 0.9712\n",
      "Epoch 129/300\n",
      "208/208 [==============================] - 0s 105us/sample - loss: 0.2430 - accuracy: 0.9712\n",
      "Epoch 130/300\n",
      "208/208 [==============================] - 0s 86us/sample - loss: 0.2441 - accuracy: 0.9760\n",
      "Epoch 131/300\n",
      "208/208 [==============================] - 0s 91us/sample - loss: 0.2434 - accuracy: 0.9760\n",
      "Epoch 132/300\n",
      "208/208 [==============================] - 0s 91us/sample - loss: 0.2521 - accuracy: 0.9712\n",
      "Epoch 133/300\n",
      "208/208 [==============================] - 0s 91us/sample - loss: 0.2461 - accuracy: 0.9663\n",
      "Epoch 134/300\n",
      "208/208 [==============================] - 0s 82us/sample - loss: 0.2416 - accuracy: 0.9712\n",
      "Epoch 135/300\n",
      "208/208 [==============================] - 0s 86us/sample - loss: 0.2363 - accuracy: 0.9712\n",
      "Epoch 136/300\n",
      "208/208 [==============================] - 0s 115us/sample - loss: 0.2364 - accuracy: 0.9760\n",
      "Epoch 137/300\n",
      "208/208 [==============================] - 0s 91us/sample - loss: 0.2340 - accuracy: 0.9712\n",
      "Epoch 138/300\n",
      "208/208 [==============================] - 0s 86us/sample - loss: 0.2307 - accuracy: 0.9760\n",
      "Epoch 139/300\n",
      "208/208 [==============================] - 0s 86us/sample - loss: 0.2293 - accuracy: 0.9712\n",
      "Epoch 140/300\n",
      "208/208 [==============================] - 0s 91us/sample - loss: 0.2269 - accuracy: 0.9760\n",
      "Epoch 141/300\n",
      "208/208 [==============================] - 0s 91us/sample - loss: 0.2271 - accuracy: 0.9712\n",
      "Epoch 142/300\n",
      "208/208 [==============================] - 0s 86us/sample - loss: 0.2257 - accuracy: 0.9712\n",
      "Epoch 143/300\n",
      "208/208 [==============================] - 0s 86us/sample - loss: 0.2250 - accuracy: 0.9760\n",
      "Epoch 144/300\n",
      "208/208 [==============================] - 0s 91us/sample - loss: 0.2232 - accuracy: 0.9760\n",
      "Epoch 145/300\n",
      "208/208 [==============================] - 0s 86us/sample - loss: 0.2220 - accuracy: 0.9712\n",
      "Epoch 146/300\n",
      "208/208 [==============================] - 0s 91us/sample - loss: 0.2224 - accuracy: 0.9712\n",
      "Epoch 147/300\n",
      "208/208 [==============================] - 0s 82us/sample - loss: 0.2212 - accuracy: 0.9760\n",
      "Epoch 148/300\n",
      "208/208 [==============================] - 0s 82us/sample - loss: 0.2193 - accuracy: 0.9760\n",
      "Epoch 149/300\n",
      "208/208 [==============================] - 0s 77us/sample - loss: 0.2202 - accuracy: 0.9712\n",
      "Epoch 150/300\n",
      "208/208 [==============================] - 0s 82us/sample - loss: 0.2174 - accuracy: 0.9760\n",
      "Epoch 151/300\n",
      "208/208 [==============================] - 0s 432us/sample - loss: 0.2160 - accuracy: 0.9760\n",
      "Epoch 152/300\n",
      "208/208 [==============================] - 0s 86us/sample - loss: 0.2140 - accuracy: 0.9760\n",
      "Epoch 153/300\n",
      "208/208 [==============================] - 0s 82us/sample - loss: 0.2135 - accuracy: 0.9760\n",
      "Epoch 154/300\n",
      "208/208 [==============================] - 0s 86us/sample - loss: 0.2118 - accuracy: 0.9760\n",
      "Epoch 155/300\n"
     ]
    },
    {
     "name": "stdout",
     "output_type": "stream",
     "text": [
      "208/208 [==============================] - 0s 77us/sample - loss: 0.2115 - accuracy: 0.9760\n",
      "Epoch 156/300\n",
      "208/208 [==============================] - 0s 82us/sample - loss: 0.2117 - accuracy: 0.9760\n",
      "Epoch 157/300\n",
      "208/208 [==============================] - 0s 77us/sample - loss: 0.2122 - accuracy: 0.9760\n",
      "Epoch 158/300\n",
      "208/208 [==============================] - 0s 77us/sample - loss: 0.2131 - accuracy: 0.9760\n",
      "Epoch 159/300\n",
      "208/208 [==============================] - 0s 72us/sample - loss: 0.2121 - accuracy: 0.9760\n",
      "Epoch 160/300\n",
      "208/208 [==============================] - 0s 72us/sample - loss: 0.2078 - accuracy: 0.9760\n",
      "Epoch 161/300\n",
      "208/208 [==============================] - 0s 82us/sample - loss: 0.2068 - accuracy: 0.9760\n",
      "Epoch 162/300\n",
      "208/208 [==============================] - 0s 91us/sample - loss: 0.2048 - accuracy: 0.9760\n",
      "Epoch 163/300\n",
      "208/208 [==============================] - 0s 82us/sample - loss: 0.2043 - accuracy: 0.9760\n",
      "Epoch 164/300\n",
      "208/208 [==============================] - 0s 77us/sample - loss: 0.2030 - accuracy: 0.9760\n",
      "Epoch 165/300\n",
      "208/208 [==============================] - 0s 77us/sample - loss: 0.2015 - accuracy: 0.9760\n",
      "Epoch 166/300\n",
      "208/208 [==============================] - 0s 72us/sample - loss: 0.2012 - accuracy: 0.9760\n",
      "Epoch 167/300\n",
      "208/208 [==============================] - 0s 72us/sample - loss: 0.2012 - accuracy: 0.9760\n",
      "Epoch 168/300\n",
      "208/208 [==============================] - 0s 72us/sample - loss: 0.1995 - accuracy: 0.9760\n",
      "Epoch 169/300\n",
      "208/208 [==============================] - 0s 77us/sample - loss: 0.1986 - accuracy: 0.9760\n",
      "Epoch 170/300\n",
      "208/208 [==============================] - 0s 77us/sample - loss: 0.1972 - accuracy: 0.9760\n",
      "Epoch 171/300\n",
      "208/208 [==============================] - 0s 77us/sample - loss: 0.1971 - accuracy: 0.9760\n",
      "Epoch 172/300\n",
      "208/208 [==============================] - 0s 77us/sample - loss: 0.1958 - accuracy: 0.9760\n",
      "Epoch 173/300\n",
      "208/208 [==============================] - 0s 77us/sample - loss: 0.1951 - accuracy: 0.9760\n",
      "Epoch 174/300\n",
      "208/208 [==============================] - 0s 82us/sample - loss: 0.1945 - accuracy: 0.9760\n",
      "Epoch 175/300\n",
      "208/208 [==============================] - 0s 82us/sample - loss: 0.1934 - accuracy: 0.9760\n",
      "Epoch 176/300\n",
      "208/208 [==============================] - 0s 77us/sample - loss: 0.1953 - accuracy: 0.9760\n",
      "Epoch 177/300\n",
      "208/208 [==============================] - 0s 72us/sample - loss: 0.1929 - accuracy: 0.9760\n",
      "Epoch 178/300\n",
      "208/208 [==============================] - 0s 72us/sample - loss: 0.1915 - accuracy: 0.9760\n",
      "Epoch 179/300\n",
      "208/208 [==============================] - 0s 77us/sample - loss: 0.1913 - accuracy: 0.9760\n",
      "Epoch 180/300\n",
      "208/208 [==============================] - 0s 77us/sample - loss: 0.1897 - accuracy: 0.9760\n",
      "Epoch 181/300\n",
      "208/208 [==============================] - 0s 82us/sample - loss: 0.1895 - accuracy: 0.9760\n",
      "Epoch 182/300\n",
      "208/208 [==============================] - 0s 82us/sample - loss: 0.1879 - accuracy: 0.9760\n",
      "Epoch 183/300\n",
      "208/208 [==============================] - 0s 77us/sample - loss: 0.1884 - accuracy: 0.9760\n",
      "Epoch 184/300\n",
      "208/208 [==============================] - 0s 72us/sample - loss: 0.1889 - accuracy: 0.9760\n",
      "Epoch 185/300\n",
      "208/208 [==============================] - 0s 77us/sample - loss: 0.1863 - accuracy: 0.9760\n",
      "Epoch 186/300\n",
      "208/208 [==============================] - 0s 72us/sample - loss: 0.1856 - accuracy: 0.9760\n",
      "Epoch 187/300\n",
      "208/208 [==============================] - 0s 77us/sample - loss: 0.1854 - accuracy: 0.9760\n",
      "Epoch 188/300\n",
      "208/208 [==============================] - 0s 77us/sample - loss: 0.1858 - accuracy: 0.9760\n",
      "Epoch 189/300\n",
      "208/208 [==============================] - 0s 72us/sample - loss: 0.1856 - accuracy: 0.9760\n",
      "Epoch 190/300\n",
      "208/208 [==============================] - 0s 72us/sample - loss: 0.1832 - accuracy: 0.9760\n",
      "Epoch 191/300\n",
      "208/208 [==============================] - 0s 72us/sample - loss: 0.1841 - accuracy: 0.9760\n",
      "Epoch 192/300\n",
      "208/208 [==============================] - 0s 82us/sample - loss: 0.1819 - accuracy: 0.9760\n",
      "Epoch 193/300\n",
      "208/208 [==============================] - 0s 82us/sample - loss: 0.1837 - accuracy: 0.9760\n",
      "Epoch 194/300\n",
      "208/208 [==============================] - 0s 72us/sample - loss: 0.1820 - accuracy: 0.9760\n",
      "Epoch 195/300\n",
      "208/208 [==============================] - 0s 82us/sample - loss: 0.1792 - accuracy: 0.9760\n",
      "Epoch 196/300\n",
      "208/208 [==============================] - 0s 72us/sample - loss: 0.1790 - accuracy: 0.9760\n",
      "Epoch 197/300\n",
      "208/208 [==============================] - 0s 72us/sample - loss: 0.1791 - accuracy: 0.9760\n",
      "Epoch 198/300\n",
      "208/208 [==============================] - 0s 77us/sample - loss: 0.1775 - accuracy: 0.9760\n",
      "Epoch 199/300\n",
      "208/208 [==============================] - 0s 77us/sample - loss: 0.1770 - accuracy: 0.9760\n",
      "Epoch 200/300\n",
      "208/208 [==============================] - 0s 77us/sample - loss: 0.1770 - accuracy: 0.9760\n",
      "Epoch 201/300\n",
      "208/208 [==============================] - 0s 82us/sample - loss: 0.1762 - accuracy: 0.9760\n",
      "Epoch 202/300\n",
      "208/208 [==============================] - 0s 82us/sample - loss: 0.1755 - accuracy: 0.9760\n",
      "Epoch 203/300\n",
      "208/208 [==============================] - 0s 86us/sample - loss: 0.1747 - accuracy: 0.9760\n",
      "Epoch 204/300\n",
      "208/208 [==============================] - 0s 81us/sample - loss: 0.1744 - accuracy: 0.9760\n",
      "Epoch 205/300\n",
      "208/208 [==============================] - 0s 82us/sample - loss: 0.1735 - accuracy: 0.9760\n",
      "Epoch 206/300\n",
      "208/208 [==============================] - 0s 82us/sample - loss: 0.1731 - accuracy: 0.9760\n",
      "Epoch 207/300\n",
      "208/208 [==============================] - 0s 82us/sample - loss: 0.1738 - accuracy: 0.9760\n",
      "Epoch 208/300\n",
      "208/208 [==============================] - 0s 72us/sample - loss: 0.1732 - accuracy: 0.9760\n",
      "Epoch 209/300\n",
      "208/208 [==============================] - 0s 82us/sample - loss: 0.1721 - accuracy: 0.9760\n",
      "Epoch 210/300\n",
      "208/208 [==============================] - 0s 77us/sample - loss: 0.1711 - accuracy: 0.9760\n",
      "Epoch 211/300\n",
      "208/208 [==============================] - 0s 77us/sample - loss: 0.1707 - accuracy: 0.9760\n",
      "Epoch 212/300\n",
      "208/208 [==============================] - 0s 72us/sample - loss: 0.1710 - accuracy: 0.9760\n",
      "Epoch 213/300\n",
      "208/208 [==============================] - 0s 72us/sample - loss: 0.1694 - accuracy: 0.9760\n",
      "Epoch 214/300\n",
      "208/208 [==============================] - 0s 72us/sample - loss: 0.1692 - accuracy: 0.9760\n",
      "Epoch 215/300\n",
      "208/208 [==============================] - 0s 77us/sample - loss: 0.1720 - accuracy: 0.9760\n",
      "Epoch 216/300\n",
      "208/208 [==============================] - 0s 82us/sample - loss: 0.1691 - accuracy: 0.9760\n",
      "Epoch 217/300\n",
      "208/208 [==============================] - 0s 77us/sample - loss: 0.1678 - accuracy: 0.9760\n",
      "Epoch 218/300\n",
      "208/208 [==============================] - 0s 77us/sample - loss: 0.1672 - accuracy: 0.9760\n",
      "Epoch 219/300\n",
      "208/208 [==============================] - 0s 91us/sample - loss: 0.1662 - accuracy: 0.9760\n",
      "Epoch 220/300\n",
      "208/208 [==============================] - 0s 72us/sample - loss: 0.1659 - accuracy: 0.9760\n",
      "Epoch 221/300\n",
      "208/208 [==============================] - 0s 72us/sample - loss: 0.1650 - accuracy: 0.9760\n",
      "Epoch 222/300\n",
      "208/208 [==============================] - 0s 77us/sample - loss: 0.1646 - accuracy: 0.9760\n",
      "Epoch 223/300\n",
      "208/208 [==============================] - 0s 77us/sample - loss: 0.1642 - accuracy: 0.9760\n",
      "Epoch 224/300\n",
      "208/208 [==============================] - 0s 77us/sample - loss: 0.1638 - accuracy: 0.9760\n",
      "Epoch 225/300\n",
      "208/208 [==============================] - 0s 77us/sample - loss: 0.1630 - accuracy: 0.9760\n",
      "Epoch 226/300\n",
      "208/208 [==============================] - 0s 77us/sample - loss: 0.1629 - accuracy: 0.9760\n",
      "Epoch 227/300\n",
      "208/208 [==============================] - 0s 77us/sample - loss: 0.1625 - accuracy: 0.9760\n",
      "Epoch 228/300\n",
      "208/208 [==============================] - 0s 72us/sample - loss: 0.1638 - accuracy: 0.9760\n",
      "Epoch 229/300\n",
      "208/208 [==============================] - 0s 82us/sample - loss: 0.1628 - accuracy: 0.9760\n",
      "Epoch 230/300\n",
      "208/208 [==============================] - 0s 77us/sample - loss: 0.1621 - accuracy: 0.9760\n",
      "Epoch 231/300\n",
      "208/208 [==============================] - 0s 77us/sample - loss: 0.1627 - accuracy: 0.9760\n",
      "Epoch 232/300\n",
      "208/208 [==============================] - 0s 82us/sample - loss: 0.1626 - accuracy: 0.9760\n",
      "Epoch 233/300\n",
      "208/208 [==============================] - 0s 77us/sample - loss: 0.1651 - accuracy: 0.9760\n",
      "Epoch 234/300\n",
      "208/208 [==============================] - 0s 82us/sample - loss: 0.1670 - accuracy: 0.9712\n",
      "Epoch 235/300\n",
      "208/208 [==============================] - 0s 91us/sample - loss: 0.1602 - accuracy: 0.9760\n",
      "Epoch 236/300\n",
      "208/208 [==============================] - 0s 77us/sample - loss: 0.1595 - accuracy: 0.9760\n",
      "Epoch 237/300\n",
      "208/208 [==============================] - 0s 67us/sample - loss: 0.1594 - accuracy: 0.9760\n",
      "Epoch 238/300\n",
      "208/208 [==============================] - 0s 72us/sample - loss: 0.1579 - accuracy: 0.9760\n",
      "Epoch 239/300\n",
      "208/208 [==============================] - 0s 77us/sample - loss: 0.1580 - accuracy: 0.9760\n",
      "Epoch 240/300\n",
      "208/208 [==============================] - 0s 77us/sample - loss: 0.1578 - accuracy: 0.9760\n",
      "Epoch 241/300\n",
      "208/208 [==============================] - 0s 77us/sample - loss: 0.1575 - accuracy: 0.9760\n",
      "Epoch 242/300\n",
      "208/208 [==============================] - 0s 67us/sample - loss: 0.1560 - accuracy: 0.9760\n",
      "Epoch 243/300\n",
      "208/208 [==============================] - 0s 72us/sample - loss: 0.1559 - accuracy: 0.9760\n",
      "Epoch 244/300\n",
      "208/208 [==============================] - 0s 77us/sample - loss: 0.1553 - accuracy: 0.9760\n",
      "Epoch 245/300\n",
      "208/208 [==============================] - 0s 67us/sample - loss: 0.1551 - accuracy: 0.9760\n",
      "Epoch 246/300\n",
      "208/208 [==============================] - 0s 72us/sample - loss: 0.1542 - accuracy: 0.9760\n",
      "Epoch 247/300\n",
      "208/208 [==============================] - 0s 67us/sample - loss: 0.1537 - accuracy: 0.9760\n",
      "Epoch 248/300\n",
      "208/208 [==============================] - 0s 77us/sample - loss: 0.1533 - accuracy: 0.9760\n",
      "Epoch 249/300\n",
      "208/208 [==============================] - 0s 72us/sample - loss: 0.1534 - accuracy: 0.9760\n",
      "Epoch 250/300\n",
      "208/208 [==============================] - 0s 67us/sample - loss: 0.1528 - accuracy: 0.9760\n",
      "Epoch 251/300\n",
      "208/208 [==============================] - 0s 82us/sample - loss: 0.1527 - accuracy: 0.9760\n",
      "Epoch 252/300\n",
      "208/208 [==============================] - 0s 86us/sample - loss: 0.1533 - accuracy: 0.9760\n",
      "Epoch 253/300\n",
      "208/208 [==============================] - 0s 77us/sample - loss: 0.1521 - accuracy: 0.9760\n",
      "Epoch 254/300\n",
      "208/208 [==============================] - 0s 72us/sample - loss: 0.1513 - accuracy: 0.9760\n",
      "Epoch 255/300\n",
      "208/208 [==============================] - 0s 77us/sample - loss: 0.1510 - accuracy: 0.9760\n",
      "Epoch 256/300\n",
      "208/208 [==============================] - 0s 72us/sample - loss: 0.1505 - accuracy: 0.9760\n",
      "Epoch 257/300\n",
      "208/208 [==============================] - 0s 72us/sample - loss: 0.1499 - accuracy: 0.9760\n",
      "Epoch 258/300\n",
      "208/208 [==============================] - 0s 77us/sample - loss: 0.1496 - accuracy: 0.9760\n",
      "Epoch 259/300\n",
      "208/208 [==============================] - 0s 72us/sample - loss: 0.1492 - accuracy: 0.9760\n",
      "Epoch 260/300\n",
      "208/208 [==============================] - 0s 72us/sample - loss: 0.1491 - accuracy: 0.9760\n",
      "Epoch 261/300\n",
      "208/208 [==============================] - 0s 67us/sample - loss: 0.1491 - accuracy: 0.9760\n",
      "Epoch 262/300\n",
      "208/208 [==============================] - 0s 82us/sample - loss: 0.1492 - accuracy: 0.9760\n",
      "Epoch 263/300\n",
      "208/208 [==============================] - 0s 72us/sample - loss: 0.1480 - accuracy: 0.9760\n",
      "Epoch 264/300\n",
      "208/208 [==============================] - 0s 77us/sample - loss: 0.1481 - accuracy: 0.9760\n",
      "Epoch 265/300\n",
      "208/208 [==============================] - 0s 82us/sample - loss: 0.1482 - accuracy: 0.9760\n",
      "Epoch 266/300\n",
      "208/208 [==============================] - 0s 72us/sample - loss: 0.1471 - accuracy: 0.9760\n",
      "Epoch 267/300\n",
      "208/208 [==============================] - 0s 72us/sample - loss: 0.1461 - accuracy: 0.9760\n",
      "Epoch 268/300\n",
      "208/208 [==============================] - 0s 77us/sample - loss: 0.1459 - accuracy: 0.9760\n",
      "Epoch 269/300\n",
      "208/208 [==============================] - 0s 77us/sample - loss: 0.1456 - accuracy: 0.9760\n",
      "Epoch 270/300\n",
      "208/208 [==============================] - 0s 72us/sample - loss: 0.1452 - accuracy: 0.9760\n",
      "Epoch 271/300\n",
      "208/208 [==============================] - 0s 72us/sample - loss: 0.1448 - accuracy: 0.9760\n",
      "Epoch 272/300\n",
      "208/208 [==============================] - 0s 77us/sample - loss: 0.1444 - accuracy: 0.9760\n",
      "Epoch 273/300\n",
      "208/208 [==============================] - 0s 77us/sample - loss: 0.1441 - accuracy: 0.9760\n",
      "Epoch 274/300\n",
      "208/208 [==============================] - 0s 77us/sample - loss: 0.1444 - accuracy: 0.9760\n",
      "Epoch 275/300\n",
      "208/208 [==============================] - 0s 77us/sample - loss: 0.1444 - accuracy: 0.9760\n",
      "Epoch 276/300\n",
      "208/208 [==============================] - 0s 82us/sample - loss: 0.1435 - accuracy: 0.9760\n",
      "Epoch 277/300\n",
      "208/208 [==============================] - 0s 81us/sample - loss: 0.1428 - accuracy: 0.9760\n",
      "Epoch 278/300\n",
      "208/208 [==============================] - 0s 86us/sample - loss: 0.1425 - accuracy: 0.9760\n",
      "Epoch 279/300\n",
      "208/208 [==============================] - 0s 77us/sample - loss: 0.1422 - accuracy: 0.9760\n",
      "Epoch 280/300\n",
      "208/208 [==============================] - 0s 77us/sample - loss: 0.1419 - accuracy: 0.9760\n",
      "Epoch 281/300\n",
      "208/208 [==============================] - 0s 77us/sample - loss: 0.1415 - accuracy: 0.9760\n",
      "Epoch 282/300\n",
      "208/208 [==============================] - 0s 77us/sample - loss: 0.1414 - accuracy: 0.9760\n",
      "Epoch 283/300\n",
      "208/208 [==============================] - 0s 81us/sample - loss: 0.1413 - accuracy: 0.9760\n",
      "Epoch 284/300\n",
      "208/208 [==============================] - 0s 77us/sample - loss: 0.1410 - accuracy: 0.9760\n",
      "Epoch 285/300\n",
      "208/208 [==============================] - 0s 82us/sample - loss: 0.1406 - accuracy: 0.9760\n",
      "Epoch 286/300\n",
      "208/208 [==============================] - 0s 82us/sample - loss: 0.1402 - accuracy: 0.9760\n",
      "Epoch 287/300\n",
      "208/208 [==============================] - 0s 77us/sample - loss: 0.1398 - accuracy: 0.9760\n",
      "Epoch 288/300\n",
      "208/208 [==============================] - 0s 72us/sample - loss: 0.1394 - accuracy: 0.9760\n",
      "Epoch 289/300\n",
      "208/208 [==============================] - 0s 86us/sample - loss: 0.1393 - accuracy: 0.9760\n",
      "Epoch 290/300\n",
      "208/208 [==============================] - 0s 82us/sample - loss: 0.1389 - accuracy: 0.9760\n",
      "Epoch 291/300\n",
      "208/208 [==============================] - 0s 72us/sample - loss: 0.1386 - accuracy: 0.9760\n",
      "Epoch 292/300\n",
      "208/208 [==============================] - 0s 77us/sample - loss: 0.1386 - accuracy: 0.9760\n",
      "Epoch 293/300\n",
      "208/208 [==============================] - 0s 96us/sample - loss: 0.1384 - accuracy: 0.9760\n",
      "Epoch 294/300\n",
      "208/208 [==============================] - 0s 82us/sample - loss: 0.1381 - accuracy: 0.9760\n",
      "Epoch 295/300\n",
      "208/208 [==============================] - 0s 82us/sample - loss: 0.1377 - accuracy: 0.9760\n",
      "Epoch 296/300\n",
      "208/208 [==============================] - 0s 82us/sample - loss: 0.1373 - accuracy: 0.9760\n",
      "Epoch 297/300\n",
      "208/208 [==============================] - 0s 82us/sample - loss: 0.1372 - accuracy: 0.9760\n",
      "Epoch 298/300\n",
      "208/208 [==============================] - 0s 110us/sample - loss: 0.1368 - accuracy: 0.9760\n",
      "Epoch 299/300\n",
      "208/208 [==============================] - 0s 101us/sample - loss: 0.1368 - accuracy: 0.9760\n",
      "Epoch 300/300\n",
      "208/208 [==============================] - 0s 91us/sample - loss: 0.1364 - accuracy: 0.9760\n"
     ]
    },
    {
     "data": {
      "text/plain": [
       "<tensorflow.python.keras.callbacks.History at 0x1ebd56d61c8>"
      ]
     },
     "execution_count": 25,
     "metadata": {},
     "output_type": "execute_result"
    }
   ],
   "source": [
    "#Train model1\n",
    "model1.fit(X_input, Y_label, epochs=300)"
   ]
  },
  {
   "cell_type": "code",
   "execution_count": 26,
   "metadata": {},
   "outputs": [
    {
     "name": "stdout",
     "output_type": "stream",
     "text": [
      "208/208 [==============================] - 0s 432us/sample - loss: 0.1364 - accuracy: 0.9760\n"
     ]
    },
    {
     "data": {
      "text/plain": [
       "[0.13637146360885638, 0.97596157]"
      ]
     },
     "execution_count": 26,
     "metadata": {},
     "output_type": "execute_result"
    }
   ],
   "source": [
    "#Evaluate model1\n",
    "model1.evaluate(X_input, Y_label)"
   ]
  },
  {
   "cell_type": "code",
   "execution_count": 27,
   "metadata": {},
   "outputs": [
    {
     "name": "stdout",
     "output_type": "stream",
     "text": [
      "Train on 208 samples\n",
      "Epoch 1/30\n",
      "208/208 [==============================] - 0s 2ms/sample - loss: 0.6994 - accuracy: 0.4663\n",
      "Epoch 2/30\n",
      "208/208 [==============================] - 0s 91us/sample - loss: 0.6862 - accuracy: 0.5769\n",
      "Epoch 3/30\n",
      "208/208 [==============================] - 0s 101us/sample - loss: 0.6775 - accuracy: 0.6971\n",
      "Epoch 4/30\n",
      "208/208 [==============================] - 0s 96us/sample - loss: 0.6645 - accuracy: 0.7115\n",
      "Epoch 5/30\n",
      "208/208 [==============================] - 0s 91us/sample - loss: 0.6476 - accuracy: 0.7260\n",
      "Epoch 6/30\n",
      "208/208 [==============================] - 0s 101us/sample - loss: 0.6159 - accuracy: 0.7692\n",
      "Epoch 7/30\n",
      "208/208 [==============================] - 0s 101us/sample - loss: 0.5699 - accuracy: 0.7740\n",
      "Epoch 8/30\n",
      "208/208 [==============================] - 0s 91us/sample - loss: 0.5185 - accuracy: 0.7885\n",
      "Epoch 9/30\n",
      "208/208 [==============================] - 0s 101us/sample - loss: 0.5100 - accuracy: 0.7500\n",
      "Epoch 10/30\n",
      "208/208 [==============================] - 0s 96us/sample - loss: 0.4378 - accuracy: 0.7933\n",
      "Epoch 11/30\n",
      "208/208 [==============================] - 0s 96us/sample - loss: 0.4123 - accuracy: 0.7885\n",
      "Epoch 12/30\n",
      "208/208 [==============================] - 0s 105us/sample - loss: 0.3885 - accuracy: 0.8221\n",
      "Epoch 13/30\n",
      "208/208 [==============================] - 0s 115us/sample - loss: 0.3520 - accuracy: 0.8606\n",
      "Epoch 14/30\n",
      "208/208 [==============================] - 0s 96us/sample - loss: 0.3372 - accuracy: 0.8798\n",
      "Epoch 15/30\n",
      "208/208 [==============================] - 0s 115us/sample - loss: 0.3175 - accuracy: 0.8702\n",
      "Epoch 16/30\n",
      "208/208 [==============================] - 0s 110us/sample - loss: 0.2930 - accuracy: 0.8942\n",
      "Epoch 17/30\n",
      "208/208 [==============================] - 0s 96us/sample - loss: 0.3065 - accuracy: 0.8846\n",
      "Epoch 18/30\n",
      "208/208 [==============================] - 0s 110us/sample - loss: 0.2979 - accuracy: 0.8558\n",
      "Epoch 19/30\n",
      "208/208 [==============================] - 0s 96us/sample - loss: 0.3279 - accuracy: 0.8558\n",
      "Epoch 20/30\n",
      "208/208 [==============================] - 0s 96us/sample - loss: 0.2641 - accuracy: 0.8894\n",
      "Epoch 21/30\n",
      "208/208 [==============================] - 0s 105us/sample - loss: 0.2457 - accuracy: 0.8990\n",
      "Epoch 22/30\n",
      "208/208 [==============================] - 0s 91us/sample - loss: 0.2303 - accuracy: 0.9231\n",
      "Epoch 23/30\n",
      "208/208 [==============================] - 0s 110us/sample - loss: 0.2124 - accuracy: 0.9327\n",
      "Epoch 24/30\n",
      "208/208 [==============================] - 0s 110us/sample - loss: 0.2051 - accuracy: 0.9279\n",
      "Epoch 25/30\n",
      "208/208 [==============================] - 0s 93us/sample - loss: 0.2103 - accuracy: 0.9279\n",
      "Epoch 26/30\n",
      "208/208 [==============================] - 0s 134us/sample - loss: 0.2046 - accuracy: 0.8942\n",
      "Epoch 27/30\n",
      "208/208 [==============================] - 0s 144us/sample - loss: 0.1840 - accuracy: 0.9279\n",
      "Epoch 28/30\n",
      "208/208 [==============================] - 0s 108us/sample - loss: 0.1631 - accuracy: 0.9519\n",
      "Epoch 29/30\n",
      "208/208 [==============================] - 0s 115us/sample - loss: 0.1463 - accuracy: 0.9567\n",
      "Epoch 30/30\n",
      "208/208 [==============================] - 0s 96us/sample - loss: 0.1329 - accuracy: 0.9663\n"
     ]
    },
    {
     "data": {
      "text/plain": [
       "<tensorflow.python.keras.callbacks.History at 0x1ebd5ad1a08>"
      ]
     },
     "execution_count": 27,
     "metadata": {},
     "output_type": "execute_result"
    }
   ],
   "source": [
    "#Train the model2\n",
    "model2.fit(X_input, Y_label, epochs=30)"
   ]
  },
  {
   "cell_type": "code",
   "execution_count": 28,
   "metadata": {},
   "outputs": [
    {
     "name": "stdout",
     "output_type": "stream",
     "text": [
      "208/208 [==============================] - 0s 460us/sample - loss: 0.1244 - accuracy: 0.9567\n"
     ]
    },
    {
     "data": {
      "text/plain": [
       "[0.12436113993708904, 0.9567308]"
      ]
     },
     "execution_count": 28,
     "metadata": {},
     "output_type": "execute_result"
    }
   ],
   "source": [
    "#Evaluate the model2\n",
    "model2.evaluate(X_input, Y_label)"
   ]
  },
  {
   "cell_type": "code",
   "execution_count": 29,
   "metadata": {},
   "outputs": [
    {
     "name": "stdout",
     "output_type": "stream",
     "text": [
      "Train on 208 samples\n",
      "Epoch 1/30\n",
      "208/208 [==============================] - 0s 2ms/sample - loss: 0.6846 - accuracy: 0.5481\n",
      "Epoch 2/30\n",
      "208/208 [==============================] - 0s 245us/sample - loss: 0.5827 - accuracy: 0.7212\n",
      "Epoch 3/30\n",
      "208/208 [==============================] - 0s 254us/sample - loss: 0.5090 - accuracy: 0.7356\n",
      "Epoch 4/30\n",
      "208/208 [==============================] - 0s 259us/sample - loss: 0.4729 - accuracy: 0.8029\n",
      "Epoch 5/30\n",
      "208/208 [==============================] - 0s 240us/sample - loss: 0.4107 - accuracy: 0.8077\n",
      "Epoch 6/30\n",
      "208/208 [==============================] - 0s 235us/sample - loss: 0.4123 - accuracy: 0.7933\n",
      "Epoch 7/30\n",
      "208/208 [==============================] - 0s 240us/sample - loss: 0.3537 - accuracy: 0.8846\n",
      "Epoch 8/30\n",
      "208/208 [==============================] - 0s 249us/sample - loss: 0.3255 - accuracy: 0.8750\n",
      "Epoch 9/30\n",
      "208/208 [==============================] - 0s 259us/sample - loss: 0.3054 - accuracy: 0.8894\n",
      "Epoch 10/30\n",
      "208/208 [==============================] - 0s 254us/sample - loss: 0.2913 - accuracy: 0.8702\n",
      "Epoch 11/30\n",
      "208/208 [==============================] - 0s 249us/sample - loss: 0.3249 - accuracy: 0.8413\n",
      "Epoch 12/30\n",
      "208/208 [==============================] - 0s 245us/sample - loss: 0.2501 - accuracy: 0.8846\n",
      "Epoch 13/30\n",
      "208/208 [==============================] - 0s 278us/sample - loss: 0.2395 - accuracy: 0.9087\n",
      "Epoch 14/30\n",
      "208/208 [==============================] - 0s 278us/sample - loss: 0.2523 - accuracy: 0.8750\n",
      "Epoch 15/30\n",
      "208/208 [==============================] - 0s 259us/sample - loss: 0.2397 - accuracy: 0.9038\n",
      "Epoch 16/30\n",
      "208/208 [==============================] - 0s 278us/sample - loss: 0.2237 - accuracy: 0.8990\n",
      "Epoch 17/30\n",
      "208/208 [==============================] - 0s 259us/sample - loss: 0.1638 - accuracy: 0.9375\n",
      "Epoch 18/30\n",
      "208/208 [==============================] - 0s 254us/sample - loss: 0.1969 - accuracy: 0.9231\n",
      "Epoch 19/30\n",
      "208/208 [==============================] - 0s 254us/sample - loss: 0.1546 - accuracy: 0.9519\n",
      "Epoch 20/30\n",
      "208/208 [==============================] - 0s 269us/sample - loss: 0.1294 - accuracy: 0.9663\n",
      "Epoch 21/30\n",
      "208/208 [==============================] - 0s 518us/sample - loss: 0.1316 - accuracy: 0.9519\n",
      "Epoch 22/30\n",
      "208/208 [==============================] - 0s 240us/sample - loss: 0.1510 - accuracy: 0.9471\n",
      "Epoch 23/30\n",
      "208/208 [==============================] - 0s 427us/sample - loss: 0.1117 - accuracy: 0.9567\n",
      "Epoch 24/30\n",
      "208/208 [==============================] - 0s 307us/sample - loss: 0.0975 - accuracy: 0.9808\n",
      "Epoch 25/30\n",
      "208/208 [==============================] - 0s 283us/sample - loss: 0.0739 - accuracy: 1.0000\n",
      "Epoch 26/30\n",
      "208/208 [==============================] - 0s 259us/sample - loss: 0.0717 - accuracy: 0.9952\n",
      "Epoch 27/30\n",
      "208/208 [==============================] - 0s 273us/sample - loss: 0.0602 - accuracy: 0.9952\n",
      "Epoch 28/30\n",
      "208/208 [==============================] - 0s 235us/sample - loss: 0.0630 - accuracy: 0.9952\n",
      "Epoch 29/30\n",
      "208/208 [==============================] - 0s 245us/sample - loss: 0.0517 - accuracy: 0.9904\n",
      "Epoch 30/30\n",
      "208/208 [==============================] - 0s 254us/sample - loss: 0.0479 - accuracy: 0.9952\n"
     ]
    },
    {
     "data": {
      "text/plain": [
       "<tensorflow.python.keras.callbacks.History at 0x1ebd8dec3c8>"
      ]
     },
     "execution_count": 29,
     "metadata": {},
     "output_type": "execute_result"
    }
   ],
   "source": [
    "#Train the model3\n",
    "model3.fit(X_input, Y_label, epochs=30)"
   ]
  },
  {
   "cell_type": "code",
   "execution_count": 30,
   "metadata": {},
   "outputs": [
    {
     "name": "stdout",
     "output_type": "stream",
     "text": [
      "208/208 [==============================] - 0s 523us/sample - loss: 0.0398 - accuracy: 1.0000\n"
     ]
    },
    {
     "data": {
      "text/plain": [
       "[0.03979095257818699, 1.0]"
      ]
     },
     "execution_count": 30,
     "metadata": {},
     "output_type": "execute_result"
    }
   ],
   "source": [
    "#Evaluate the model3\n",
    "model3.evaluate(X_input, Y_label)"
   ]
  },
  {
   "cell_type": "code",
   "execution_count": 31,
   "metadata": {},
   "outputs": [
    {
     "name": "stdout",
     "output_type": "stream",
     "text": [
      "Train on 208 samples\n",
      "Epoch 1/30\n",
      "208/208 [==============================] - 0s 2ms/sample - loss: 0.6695 - accuracy: 0.5962\n",
      "Epoch 2/30\n",
      "208/208 [==============================] - 0s 273us/sample - loss: 0.6230 - accuracy: 0.6298\n",
      "Epoch 3/30\n",
      "208/208 [==============================] - 0s 254us/sample - loss: 0.5545 - accuracy: 0.6779\n",
      "Epoch 4/30\n",
      "208/208 [==============================] - 0s 273us/sample - loss: 0.5210 - accuracy: 0.7452\n",
      "Epoch 5/30\n",
      "208/208 [==============================] - 0s 278us/sample - loss: 0.4645 - accuracy: 0.7596\n",
      "Epoch 6/30\n",
      "208/208 [==============================] - 0s 288us/sample - loss: 0.4440 - accuracy: 0.7692\n",
      "Epoch 7/30\n",
      "208/208 [==============================] - 0s 273us/sample - loss: 0.4016 - accuracy: 0.8269\n",
      "Epoch 8/30\n",
      "208/208 [==============================] - 0s 288us/sample - loss: 0.3840 - accuracy: 0.7933\n",
      "Epoch 9/30\n",
      "208/208 [==============================] - 0s 283us/sample - loss: 0.3672 - accuracy: 0.8317\n",
      "Epoch 10/30\n",
      "208/208 [==============================] - 0s 316us/sample - loss: 0.3300 - accuracy: 0.8510\n",
      "Epoch 11/30\n",
      "208/208 [==============================] - 0s 273us/sample - loss: 0.3137 - accuracy: 0.8606\n",
      "Epoch 12/30\n",
      "208/208 [==============================] - 0s 302us/sample - loss: 0.3038 - accuracy: 0.8894\n",
      "Epoch 13/30\n",
      "208/208 [==============================] - 0s 292us/sample - loss: 0.2688 - accuracy: 0.8942\n",
      "Epoch 14/30\n",
      "208/208 [==============================] - 0s 278us/sample - loss: 0.2505 - accuracy: 0.9135\n",
      "Epoch 15/30\n",
      "208/208 [==============================] - 0s 283us/sample - loss: 0.2447 - accuracy: 0.9087\n",
      "Epoch 16/30\n",
      "208/208 [==============================] - 0s 278us/sample - loss: 0.2206 - accuracy: 0.9231\n",
      "Epoch 17/30\n",
      "208/208 [==============================] - 0s 288us/sample - loss: 0.2556 - accuracy: 0.8846\n",
      "Epoch 18/30\n",
      "208/208 [==============================] - 0s 273us/sample - loss: 0.2540 - accuracy: 0.8846\n",
      "Epoch 19/30\n",
      "208/208 [==============================] - 0s 288us/sample - loss: 0.2245 - accuracy: 0.9087\n",
      "Epoch 20/30\n",
      "208/208 [==============================] - 0s 278us/sample - loss: 0.1695 - accuracy: 0.9327\n",
      "Epoch 21/30\n",
      "208/208 [==============================] - 0s 259us/sample - loss: 0.1573 - accuracy: 0.9567\n",
      "Epoch 22/30\n",
      "208/208 [==============================] - 0s 307us/sample - loss: 0.1330 - accuracy: 0.9760\n",
      "Epoch 23/30\n",
      "208/208 [==============================] - 0s 278us/sample - loss: 0.1296 - accuracy: 0.9567\n",
      "Epoch 24/30\n",
      "208/208 [==============================] - 0s 273us/sample - loss: 0.1319 - accuracy: 0.9567\n",
      "Epoch 25/30\n",
      "208/208 [==============================] - 0s 283us/sample - loss: 0.1238 - accuracy: 0.9615\n",
      "Epoch 26/30\n",
      "208/208 [==============================] - 0s 292us/sample - loss: 0.0927 - accuracy: 0.9760\n",
      "Epoch 27/30\n",
      "208/208 [==============================] - 0s 292us/sample - loss: 0.0802 - accuracy: 0.9904\n",
      "Epoch 28/30\n",
      "208/208 [==============================] - 0s 326us/sample - loss: 0.0948 - accuracy: 0.9712\n",
      "Epoch 29/30\n",
      "208/208 [==============================] - 0s 355us/sample - loss: 0.0903 - accuracy: 0.9808\n",
      "Epoch 30/30\n",
      "208/208 [==============================] - 0s 384us/sample - loss: 0.0904 - accuracy: 0.9760\n"
     ]
    },
    {
     "data": {
      "text/plain": [
       "<tensorflow.python.keras.callbacks.History at 0x1ebd5815c08>"
      ]
     },
     "execution_count": 31,
     "metadata": {},
     "output_type": "execute_result"
    }
   ],
   "source": [
    "#Train the model4\n",
    "model4.fit(X_input, Y_label, epochs=30)"
   ]
  },
  {
   "cell_type": "code",
   "execution_count": 32,
   "metadata": {},
   "outputs": [
    {
     "name": "stdout",
     "output_type": "stream",
     "text": [
      "208/208 [==============================] - 0s 441us/sample - loss: 0.1190 - accuracy: 0.9567\n"
     ]
    },
    {
     "data": {
      "text/plain": [
       "[0.11901242665659922, 0.9567308]"
      ]
     },
     "execution_count": 32,
     "metadata": {},
     "output_type": "execute_result"
    }
   ],
   "source": [
    "#Evaluate the model4\n",
    "model4.evaluate(X_input, Y_label)"
   ]
  },
  {
   "cell_type": "markdown",
   "metadata": {},
   "source": [
    "### Final remarks\n",
    "\n",
    "[Return to top](#Building-a-Multilayer-Neural-Network-to-Classify-Sonar-Signals)  \n",
    "[Go to Import and data description](#Import-and-data-description)  \n",
    "[Go to Data preparation](#Data-preparation)  \n",
    "[Go to Building the multilayer model](#Building-the-multilayer-model)  \n",
    "[Go to Training configuration](#Training-configuration)  \n",
    "[Go to Model training and evaluation](#Model-training-and-evaluation)  "
   ]
  },
  {
   "cell_type": "markdown",
   "metadata": {},
   "source": [
    "<table>\n",
    "<tl><th>Model Performance </th></tl>\n",
    "<tl><td>\n",
    "\n",
    "|              | **model** | **model1** | **model2** | **model3** | **model4** |\n",
    "|:-------------|:---------:|:----------:|:----------:|:----------:|:----------:|\n",
    "| **Loss**     |   0.0555  |   0.6908   |   0.1741   |   0.0333   |   0.0558   |\n",
    "| **Accuracy** |   0.9903  |   0.5336   |   0.9663   |   0.9951   |   0.9903   |\n",
    "\n",
    "</td></tl> </table>\n",
    "\n",
    "After testing several configurations of the models, 4 out 5 models obtained an accuracy of above 95%. It's worth noting the underperforming model (**model1**), in its [summary model1](#Model-Inspection-Summary) we could note the number of parameters for this configuration was significantly smaller(1874) compared to its counterparts. Given the model was too simple for the problem at hand, it underfitted the data. \n",
    "\n",
    "The number of epochs for this particular problem didn't require many iterations, it was noted that 30 epochs was enough to minimize the loss for most of the examples.\n",
    "\n",
    "Finally, the 4 models with accuracies above 95%, 3 of them obtained a loss that ranged close to 0 (0.03 - 0.05) (model, model3, model4). Referring back to the [model summary table](#Model-Inspection-Summary), this three presented larger structures which could lead to overfitting. On the other hand, model2 presented less parameters and a loss not to close to 0. For those reasons, model2 is considered the best configuration. \n",
    "\n",
    "***"
   ]
  },
  {
   "cell_type": "markdown",
   "metadata": {},
   "source": [
    "<table>\n",
    "<tl><th>Configuration - model2<br>(Best performing model) </th></tl>\n",
    "<tl><td>\n",
    "    \n",
    "|                           |       **model2**                                                     \t|\n",
    "|:--------------------\t\t|:---------------------------------------------------------------:\t\t|\n",
    "|      **Optimizers**     \t|                                 Adam                               \t|\n",
    "| **Activation Function** \t| ReLU (for initial and hidden layers)<br>Sigmoid (for last layer)  \t|\n",
    "| **Hidden layers**       \t|                                 5                                 \t|\n",
    "| **Units/Neurons**       \t|                **60**-50-40-30-20-**1**                            \t|\n",
    "| **Epochs**              \t|                                30                                  \t|\n",
    "|**Parameters**             |  10,621                                                               |\n",
    "\n",
    "</td></tl> </table>\n",
    "\n",
    "This model will be put to test again to observe if it gets a better (or worse) performance by removing the last two hidden layers (3 and 4). Lastly, it will be modified one last time by adding one extra hidden layer and distribute the number of neurons among the layers as follows: **70**-60-50-40-30-10-**1**"
   ]
  },
  {
   "cell_type": "code",
   "execution_count": 33,
   "metadata": {},
   "outputs": [],
   "source": [
    "#Use Keras Sequential model to build the multilayer model\n",
    "model2 = Sequential()                                     \n",
    "model2.add(Dense(60,input_dim=60, activation = 'relu')) #input layer\n",
    "model2.add(Dense(50,  activation = 'relu'))             #hidden layer 1\n",
    "model2.add(Dense(40,  activation = 'relu'))             #hidden layer 2\n",
    "#model2.add(Dense(30,  activation = 'relu'))             #remove hidden layer 3\n",
    "#model2.add(Dense(20,  activation = 'relu'))             #remove hidden layer 4\n",
    "model2.add(Dense(1,  activation = 'sigmoid'))           #output layer"
   ]
  },
  {
   "cell_type": "code",
   "execution_count": 34,
   "metadata": {},
   "outputs": [
    {
     "name": "stdout",
     "output_type": "stream",
     "text": [
      "Model: \"sequential_5\"\n",
      "_________________________________________________________________\n",
      "Layer (type)                 Output Shape              Param #   \n",
      "=================================================================\n",
      "dense_22 (Dense)             (None, 60)                3660      \n",
      "_________________________________________________________________\n",
      "dense_23 (Dense)             (None, 50)                3050      \n",
      "_________________________________________________________________\n",
      "dense_24 (Dense)             (None, 40)                2040      \n",
      "_________________________________________________________________\n",
      "dense_25 (Dense)             (None, 1)                 41        \n",
      "=================================================================\n",
      "Total params: 8,791\n",
      "Trainable params: 8,791\n",
      "Non-trainable params: 0\n",
      "_________________________________________________________________\n"
     ]
    }
   ],
   "source": [
    "#Inspect model2 configuration\n",
    "model2.summary()"
   ]
  },
  {
   "cell_type": "code",
   "execution_count": 35,
   "metadata": {},
   "outputs": [],
   "source": [
    "#Provide the training parameters using compile method\n",
    "model2.compile(optimizer='adam',loss='binary_crossentropy',metrics=['accuracy'])"
   ]
  },
  {
   "cell_type": "code",
   "execution_count": 36,
   "metadata": {},
   "outputs": [
    {
     "name": "stdout",
     "output_type": "stream",
     "text": [
      "Train on 208 samples\n",
      "Epoch 1/30\n",
      "208/208 [==============================] - 0s 2ms/sample - loss: 0.6951 - accuracy: 0.4712\n",
      "Epoch 2/30\n",
      "208/208 [==============================] - 0s 91us/sample - loss: 0.6695 - accuracy: 0.5769\n",
      "Epoch 3/30\n",
      "208/208 [==============================] - 0s 101us/sample - loss: 0.6513 - accuracy: 0.6394\n",
      "Epoch 4/30\n",
      "208/208 [==============================] - 0s 96us/sample - loss: 0.6295 - accuracy: 0.7019\n",
      "Epoch 5/30\n",
      "208/208 [==============================] - 0s 86us/sample - loss: 0.6043 - accuracy: 0.7308\n",
      "Epoch 6/30\n",
      "208/208 [==============================] - 0s 91us/sample - loss: 0.5779 - accuracy: 0.7356\n",
      "Epoch 7/30\n",
      "208/208 [==============================] - 0s 91us/sample - loss: 0.5454 - accuracy: 0.7596\n",
      "Epoch 8/30\n",
      "208/208 [==============================] - 0s 91us/sample - loss: 0.5101 - accuracy: 0.7885\n",
      "Epoch 9/30\n",
      "208/208 [==============================] - 0s 91us/sample - loss: 0.4784 - accuracy: 0.7981\n",
      "Epoch 10/30\n",
      "208/208 [==============================] - 0s 86us/sample - loss: 0.4471 - accuracy: 0.8365\n",
      "Epoch 11/30\n",
      "208/208 [==============================] - 0s 91us/sample - loss: 0.4269 - accuracy: 0.8077\n",
      "Epoch 12/30\n",
      "208/208 [==============================] - 0s 96us/sample - loss: 0.4267 - accuracy: 0.7692\n",
      "Epoch 13/30\n",
      "208/208 [==============================] - 0s 91us/sample - loss: 0.3977 - accuracy: 0.8269\n",
      "Epoch 14/30\n",
      "208/208 [==============================] - 0s 91us/sample - loss: 0.3699 - accuracy: 0.8558\n",
      "Epoch 15/30\n",
      "208/208 [==============================] - 0s 91us/sample - loss: 0.3504 - accuracy: 0.8462\n",
      "Epoch 16/30\n",
      "208/208 [==============================] - 0s 96us/sample - loss: 0.3432 - accuracy: 0.8462\n",
      "Epoch 17/30\n",
      "208/208 [==============================] - 0s 96us/sample - loss: 0.3297 - accuracy: 0.8558\n",
      "Epoch 18/30\n",
      "208/208 [==============================] - 0s 91us/sample - loss: 0.3130 - accuracy: 0.8750\n",
      "Epoch 19/30\n",
      "208/208 [==============================] - 0s 96us/sample - loss: 0.3133 - accuracy: 0.8702\n",
      "Epoch 20/30\n",
      "208/208 [==============================] - 0s 101us/sample - loss: 0.3384 - accuracy: 0.8510\n",
      "Epoch 21/30\n",
      "208/208 [==============================] - 0s 91us/sample - loss: 0.3363 - accuracy: 0.8269\n",
      "Epoch 22/30\n",
      "208/208 [==============================] - 0s 96us/sample - loss: 0.3064 - accuracy: 0.8606\n",
      "Epoch 23/30\n",
      "208/208 [==============================] - 0s 86us/sample - loss: 0.2907 - accuracy: 0.8606\n",
      "Epoch 24/30\n",
      "208/208 [==============================] - 0s 101us/sample - loss: 0.2881 - accuracy: 0.8894\n",
      "Epoch 25/30\n",
      "208/208 [==============================] - 0s 101us/sample - loss: 0.2660 - accuracy: 0.8942\n",
      "Epoch 26/30\n",
      "208/208 [==============================] - 0s 91us/sample - loss: 0.2479 - accuracy: 0.9183\n",
      "Epoch 27/30\n",
      "208/208 [==============================] - 0s 115us/sample - loss: 0.2358 - accuracy: 0.9183\n",
      "Epoch 28/30\n",
      "208/208 [==============================] - 0s 110us/sample - loss: 0.2344 - accuracy: 0.9183\n",
      "Epoch 29/30\n",
      "208/208 [==============================] - 0s 115us/sample - loss: 0.2310 - accuracy: 0.9231\n",
      "Epoch 30/30\n",
      "208/208 [==============================] - 0s 92us/sample - loss: 0.2206 - accuracy: 0.9279\n"
     ]
    },
    {
     "data": {
      "text/plain": [
       "<tensorflow.python.keras.callbacks.History at 0x1ebd59583c8>"
      ]
     },
     "execution_count": 36,
     "metadata": {},
     "output_type": "execute_result"
    }
   ],
   "source": [
    "#Train the model2\n",
    "model2.fit(X_input, Y_label, epochs=30)"
   ]
  },
  {
   "cell_type": "code",
   "execution_count": 37,
   "metadata": {},
   "outputs": [
    {
     "name": "stdout",
     "output_type": "stream",
     "text": [
      "208/208 [==============================] - 0s 393us/sample - loss: 0.2095 - accuracy: 0.9375\n"
     ]
    },
    {
     "data": {
      "text/plain": [
       "[0.20950550213456154, 0.9375]"
      ]
     },
     "execution_count": 37,
     "metadata": {},
     "output_type": "execute_result"
    }
   ],
   "source": [
    "#Evaluate the model2\n",
    "model2.evaluate(X_input, Y_label)"
   ]
  },
  {
   "cell_type": "code",
   "execution_count": 38,
   "metadata": {},
   "outputs": [],
   "source": [
    "#Use Keras Sequential model to build the multilayer model. Change neurons as follows: 70-60-50-40-30-10-1\n",
    "model2 = Sequential()                                     \n",
    "model2.add(Dense(70,input_dim=60, activation = 'relu')) #input layer\n",
    "model2.add(Dense(60,  activation = 'relu'))             #hidden layer 1\n",
    "model2.add(Dense(50,  activation = 'relu'))             #hidden layer 2\n",
    "model2.add(Dense(40,  activation = 'relu'))             #hidden layer 3\n",
    "model2.add(Dense(30,  activation = 'relu'))             #hidden layer 4\n",
    "model2.add(Dense(10,  activation = 'relu'))              #add hidden layer 5\n",
    "model2.add(Dense(1,  activation = 'sigmoid'))           #output layer"
   ]
  },
  {
   "cell_type": "code",
   "execution_count": 39,
   "metadata": {},
   "outputs": [
    {
     "name": "stdout",
     "output_type": "stream",
     "text": [
      "Model: \"sequential_6\"\n",
      "_________________________________________________________________\n",
      "Layer (type)                 Output Shape              Param #   \n",
      "=================================================================\n",
      "dense_26 (Dense)             (None, 70)                4270      \n",
      "_________________________________________________________________\n",
      "dense_27 (Dense)             (None, 60)                4260      \n",
      "_________________________________________________________________\n",
      "dense_28 (Dense)             (None, 50)                3050      \n",
      "_________________________________________________________________\n",
      "dense_29 (Dense)             (None, 40)                2040      \n",
      "_________________________________________________________________\n",
      "dense_30 (Dense)             (None, 30)                1230      \n",
      "_________________________________________________________________\n",
      "dense_31 (Dense)             (None, 10)                310       \n",
      "_________________________________________________________________\n",
      "dense_32 (Dense)             (None, 1)                 11        \n",
      "=================================================================\n",
      "Total params: 15,171\n",
      "Trainable params: 15,171\n",
      "Non-trainable params: 0\n",
      "_________________________________________________________________\n"
     ]
    }
   ],
   "source": [
    "#Inspect model2 configuration\n",
    "model2.summary()"
   ]
  },
  {
   "cell_type": "code",
   "execution_count": 40,
   "metadata": {},
   "outputs": [],
   "source": [
    "#Provide the training parameters using compile method\n",
    "model2.compile(optimizer='adam',loss='binary_crossentropy',metrics=['accuracy'])"
   ]
  },
  {
   "cell_type": "code",
   "execution_count": 41,
   "metadata": {},
   "outputs": [
    {
     "name": "stdout",
     "output_type": "stream",
     "text": [
      "Train on 208 samples\n",
      "Epoch 1/30\n",
      "208/208 [==============================] - 0s 2ms/sample - loss: 0.6905 - accuracy: 0.5337\n",
      "Epoch 2/30\n",
      "208/208 [==============================] - 0s 91us/sample - loss: 0.6798 - accuracy: 0.6058\n",
      "Epoch 3/30\n",
      "208/208 [==============================] - 0s 96us/sample - loss: 0.6652 - accuracy: 0.6923\n",
      "Epoch 4/30\n",
      "208/208 [==============================] - 0s 101us/sample - loss: 0.6438 - accuracy: 0.7067\n",
      "Epoch 5/30\n",
      "208/208 [==============================] - 0s 96us/sample - loss: 0.6117 - accuracy: 0.7452\n",
      "Epoch 6/30\n",
      "208/208 [==============================] - 0s 101us/sample - loss: 0.5710 - accuracy: 0.7837\n",
      "Epoch 7/30\n",
      "208/208 [==============================] - 0s 110us/sample - loss: 0.5266 - accuracy: 0.7692\n",
      "Epoch 8/30\n",
      "208/208 [==============================] - 0s 110us/sample - loss: 0.4897 - accuracy: 0.8125\n",
      "Epoch 9/30\n",
      "208/208 [==============================] - 0s 91us/sample - loss: 0.4437 - accuracy: 0.8462\n",
      "Epoch 10/30\n",
      "208/208 [==============================] - 0s 101us/sample - loss: 0.4310 - accuracy: 0.7933\n",
      "Epoch 11/30\n",
      "208/208 [==============================] - 0s 115us/sample - loss: 0.3830 - accuracy: 0.8317\n",
      "Epoch 12/30\n",
      "208/208 [==============================] - 0s 91us/sample - loss: 0.3904 - accuracy: 0.8269\n",
      "Epoch 13/30\n",
      "208/208 [==============================] - 0s 101us/sample - loss: 0.3641 - accuracy: 0.8462\n",
      "Epoch 14/30\n",
      "208/208 [==============================] - 0s 101us/sample - loss: 0.3334 - accuracy: 0.8606\n",
      "Epoch 15/30\n",
      "208/208 [==============================] - 0s 115us/sample - loss: 0.3297 - accuracy: 0.8798\n",
      "Epoch 16/30\n",
      "208/208 [==============================] - 0s 110us/sample - loss: 0.2969 - accuracy: 0.8798\n",
      "Epoch 17/30\n",
      "208/208 [==============================] - 0s 110us/sample - loss: 0.2902 - accuracy: 0.8702\n",
      "Epoch 18/30\n",
      "208/208 [==============================] - 0s 105us/sample - loss: 0.2669 - accuracy: 0.9327\n",
      "Epoch 19/30\n",
      "208/208 [==============================] - 0s 115us/sample - loss: 0.2609 - accuracy: 0.8942\n",
      "Epoch 20/30\n",
      "208/208 [==============================] - 0s 101us/sample - loss: 0.2272 - accuracy: 0.9327\n",
      "Epoch 21/30\n",
      "208/208 [==============================] - 0s 153us/sample - loss: 0.2182 - accuracy: 0.9375\n",
      "Epoch 22/30\n",
      "208/208 [==============================] - 0s 110us/sample - loss: 0.2127 - accuracy: 0.9423\n",
      "Epoch 23/30\n",
      "208/208 [==============================] - 0s 125us/sample - loss: 0.2017 - accuracy: 0.9375\n",
      "Epoch 24/30\n",
      "208/208 [==============================] - 0s 105us/sample - loss: 0.1745 - accuracy: 0.9423\n",
      "Epoch 25/30\n",
      "208/208 [==============================] - 0s 105us/sample - loss: 0.1708 - accuracy: 0.9519\n",
      "Epoch 26/30\n",
      "208/208 [==============================] - 0s 120us/sample - loss: 0.1944 - accuracy: 0.9327\n",
      "Epoch 27/30\n",
      "208/208 [==============================] - 0s 120us/sample - loss: 0.1584 - accuracy: 0.9519\n",
      "Epoch 28/30\n",
      "208/208 [==============================] - ETA: 0s - loss: 0.1638 - accuracy: 0.96 - 0s 144us/sample - loss: 0.1372 - accuracy: 0.9712\n",
      "Epoch 29/30\n",
      "208/208 [==============================] - 0s 106us/sample - loss: 0.1268 - accuracy: 0.9712\n",
      "Epoch 30/30\n",
      "208/208 [==============================] - 0s 120us/sample - loss: 0.1198 - accuracy: 0.9663\n"
     ]
    },
    {
     "data": {
      "text/plain": [
       "<tensorflow.python.keras.callbacks.History at 0x1ebd5d630c8>"
      ]
     },
     "execution_count": 41,
     "metadata": {},
     "output_type": "execute_result"
    }
   ],
   "source": [
    "#Train the model2\n",
    "model2.fit(X_input, Y_label, epochs=30)"
   ]
  },
  {
   "cell_type": "code",
   "execution_count": 42,
   "metadata": {},
   "outputs": [
    {
     "name": "stdout",
     "output_type": "stream",
     "text": [
      "208/208 [==============================] - 0s 494us/sample - loss: 0.1030 - accuracy: 0.9856\n"
     ]
    },
    {
     "data": {
      "text/plain": [
       "[0.10300513070363265, 0.9855769]"
      ]
     },
     "execution_count": 42,
     "metadata": {},
     "output_type": "execute_result"
    }
   ],
   "source": [
    "#Evaluate the model2\n",
    "model2.evaluate(X_input, Y_label)"
   ]
  },
  {
   "cell_type": "markdown",
   "metadata": {},
   "source": [
    "**When removing the layers**\n",
    "\n",
    "* The parameters were lowered to 8,791\n",
    "* The accuracy was slightly lowered to 0.9375\n",
    "* The loss increased to 0.20950550213456154\n",
    "\n",
    "**When adding an extra layer and chaging the number of neurons**\n",
    "\n",
    "* The parameters increased to 15,171\n",
    "* The accuracy increased to 0.9855769\n",
    "* The loss was lowered to 0.10300513070363265\n",
    "\n",
    "While we can get a decent performance with less parameters, is below our 95% accuracy benchmark. On the other hand, with slightly more parameters, there is a small improvement in the results. This only means that the model most likely will perform best with nothing below its original configuration of 4 hidden layers and a neurons distribution **60**-50-40-30-20-**1**"
   ]
  },
  {
   "cell_type": "markdown",
   "metadata": {},
   "source": [
    "[Return to top](#Building-a-Multilayer-Neural-Network-to-Classify-Sonar-Signals)  \n",
    "[Go to Import and data description](#Import-and-data-description)  \n",
    "[Go to Data preparation](#Data-preparation)  \n",
    "[Go to Building the multilayer model](#Building-the-multilayer-model)  \n",
    "[Go to Training configuration](#Training-configuration)  \n",
    "[Go to Model training and evaluation](#Model-training-and-evaluation)  \n",
    "[Go to Final remarks](#Final-remarks)  "
   ]
  }
 ],
 "metadata": {
  "kernelspec": {
   "display_name": "Python 3",
   "language": "python",
   "name": "python3"
  },
  "language_info": {
   "codemirror_mode": {
    "name": "ipython",
    "version": 3
   },
   "file_extension": ".py",
   "mimetype": "text/x-python",
   "name": "python",
   "nbconvert_exporter": "python",
   "pygments_lexer": "ipython3",
   "version": "3.7.13"
  }
 },
 "nbformat": 4,
 "nbformat_minor": 4
}
